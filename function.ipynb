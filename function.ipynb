{
 "cells": [
  {
   "cell_type": "code",
   "execution_count": null,
   "id": "b8f362a2",
   "metadata": {},
   "outputs": [
    {
     "name": "stdout",
     "output_type": "stream",
     "text": [
      "10\n"
     ]
    }
   ],
   "source": [
    "#permutation\n",
    "def fact(n):\n",
    "    temp=1\n",
    "    for i in range(1,n+1):\n",
    "        temp*=i\n",
    "    return temp\n",
    "\n",
    "n=int(input(\"enter n\"))\n",
    "r=int(input(\"enter r\"))\n",
    "n_fact=fact(n)\n",
    "r_fact=fact(r)\n",
    "n_min_r=fact(n-r)\n",
    "ans=n_fact//(r_fact*n_min_r)\n",
    "print(ans)"
   ]
  },
  {
   "cell_type": "code",
   "execution_count": null,
   "id": "c481e537",
   "metadata": {},
   "outputs": [
    {
     "name": "stdout",
     "output_type": "stream",
     "text": [
      "24\n"
     ]
    }
   ],
   "source": [
    "#prime number sum\n",
    "def sum(lst):\n",
    "    temp=0\n",
    "    for i in lst:\n",
    "        if i==2 or i==3 or i==5 or i==7:\n",
    "           temp+=i\n",
    "    return temp\n",
    "lst=[1,2,3,4,5,6,7,7,9,8]\n",
    "print(sum(lst))\n",
    "    "
   ]
  },
  {
   "cell_type": "code",
   "execution_count": null,
   "id": "09ec55f8",
   "metadata": {},
   "outputs": [
    {
     "name": "stdout",
     "output_type": "stream",
     "text": [
      "your name and id is  Shailesh205\n",
      "your age is  25\n"
     ]
    }
   ],
   "source": [
    "def print_info(name,id,age):\n",
    "    print(\"your name and id is \",name+id)\n",
    "    print(\"your age is \",age)\n",
    "print_info(name=\"Shailesh\",age=25,id=\"205\") #positional argument"
   ]
  },
  {
   "cell_type": "code",
   "execution_count": null,
   "id": "0ffb72b6",
   "metadata": {},
   "outputs": [
    {
     "name": "stdout",
     "output_type": "stream",
     "text": [
      "51\n",
      "11\n"
     ]
    }
   ],
   "source": [
    "def add(* temp):    #store the value in from of tuple when the number of value is depends on user\n",
    "    x=0\n",
    "    for i in temp:\n",
    "        x+=i\n",
    "    print(x)\n",
    "add(1,2,3,45)\n",
    "add(5,6)"
   ]
  },
  {
   "cell_type": "code",
   "execution_count": 12,
   "id": "9ab0c2c5",
   "metadata": {},
   "outputs": [
    {
     "name": "stdout",
     "output_type": "stream",
     "text": [
      "270\n",
      "30\n"
     ]
    }
   ],
   "source": [
    "def mul(* temp):    #store the value in from of tuple when the number of value is depends on user\n",
    "    x=1\n",
    "    for i in temp:\n",
    "        x*=i\n",
    "    print(x)\n",
    "mul(1,2,3,45)\n",
    "mul(5,6)"
   ]
  },
  {
   "cell_type": "code",
   "execution_count": 13,
   "id": "078f65aa",
   "metadata": {},
   "outputs": [
    {
     "name": "stdout",
     "output_type": "stream",
     "text": [
      "27\n"
     ]
    }
   ],
   "source": [
    "#lambda function (anonymous function)\n",
    "print((lambda x: x**3)(3))"
   ]
  },
  {
   "cell_type": "code",
   "execution_count": 14,
   "id": "c65b20c4",
   "metadata": {},
   "outputs": [
    {
     "name": "stdout",
     "output_type": "stream",
     "text": [
      "64\n"
     ]
    }
   ],
   "source": [
    "fun=lambda x: x**3\n",
    "print(fun(4))"
   ]
  },
  {
   "cell_type": "code",
   "execution_count": null,
   "id": "50460bf1",
   "metadata": {},
   "outputs": [
    {
     "data": {
      "text/plain": [
       "'even'"
      ]
     },
     "execution_count": 19,
     "metadata": {},
     "output_type": "execute_result"
    }
   ],
   "source": [
    "#even and odd\n",
    "fun=lambda x:\"even\" if x%2==0 else \"odd\"\n",
    "fun(2)"
   ]
  },
  {
   "cell_type": "code",
   "execution_count": null,
   "id": "e433d39b",
   "metadata": {},
   "outputs": [
    {
     "data": {
      "text/plain": [
       "'Prime'"
      ]
     },
     "execution_count": 20,
     "metadata": {},
     "output_type": "execute_result"
    }
   ],
   "source": [
    "#prime or not\n",
    "fun=lambda x:\"Prime\" if x==2 or x==3 or x==5 or x==7 else \"not prime\"\n",
    "fun(3)"
   ]
  },
  {
   "cell_type": "code",
   "execution_count": null,
   "id": "19ee1740",
   "metadata": {},
   "outputs": [
    {
     "name": "stdout",
     "output_type": "stream",
     "text": [
      "[1, 4, 9, 16, 25, 36, 49]\n"
     ]
    }
   ],
   "source": [
    "#Higher Order Function HOF\n",
    "#square of list element\n",
    "lst=[1,2,3,4,5,6,7]\n",
    "x=list(map(lambda x:x**2,lst))\n",
    "print(x)"
   ]
  },
  {
   "cell_type": "code",
   "execution_count": null,
   "id": "3eb6e886",
   "metadata": {},
   "outputs": [
    {
     "name": "stdout",
     "output_type": "stream",
     "text": [
      "[4.90625, 32.556776000000006, 68.773536, 376.49385, 1741.4518500000004, 452.16]\n"
     ]
    }
   ],
   "source": [
    "#calculate the area of circle using the given list of radius\n",
    "lst=[1.25,3.22,4.68,10.95,23.55,12]\n",
    "x=list(map(lambda x:3.14*x**2,lst))\n",
    "print(x)"
   ]
  },
  {
   "cell_type": "code",
   "execution_count": null,
   "id": "eb72eef7",
   "metadata": {},
   "outputs": [
    {
     "name": "stdout",
     "output_type": "stream",
     "text": [
      "[5, 6, 7, 3]\n"
     ]
    }
   ],
   "source": [
    "#length of string\n",
    "lst=[\"hello\",\"global\",\"collage\",\"xyz\"]\n",
    "x=list(map(lambda x:len(x),lst))\n",
    "print(x)"
   ]
  },
  {
   "cell_type": "code",
   "execution_count": 25,
   "id": "579a4294",
   "metadata": {},
   "outputs": [
    {
     "name": "stdout",
     "output_type": "stream",
     "text": [
      "[5, 6, 7, 3]\n"
     ]
    }
   ],
   "source": [
    "lst=eval(input(\"enter the string:\"))\n",
    "length=list(map(lambda x:len(x),lst))\n",
    "print(length)"
   ]
  },
  {
   "cell_type": "code",
   "execution_count": 26,
   "id": "de654a34",
   "metadata": {},
   "outputs": [
    {
     "name": "stdout",
     "output_type": "stream",
     "text": [
      "[5, 6, 67, 8, 9]\n"
     ]
    }
   ],
   "source": [
    "#make the list of all the element greater than 4\n",
    "lst=[2,3,4,5,6,67,8,9]\n",
    "var=list(filter(lambda x: x>4,lst))\n",
    "print(var)"
   ]
  },
  {
   "cell_type": "code",
   "execution_count": 28,
   "id": "cf1ef6cd",
   "metadata": {},
   "outputs": [
    {
     "name": "stdout",
     "output_type": "stream",
     "text": [
      "['ayz', 'angle', 'And']\n"
     ]
    }
   ],
   "source": [
    "#PRINT THE LIST OF ELEMENTS STARTING WITH A \n",
    "lst=[\"hello\",\"global\",\"collage\",\"ayz\",\"angle\",\"And\"]\n",
    "x=list(filter(lambda x:x[0].lower()=='a',lst))\n",
    "print(x)"
   ]
  },
  {
   "cell_type": "code",
   "execution_count": 29,
   "id": "7890a4cc",
   "metadata": {},
   "outputs": [
    {
     "name": "stdout",
     "output_type": "stream",
     "text": [
      "38\n"
     ]
    }
   ],
   "source": [
    "#return the sum of list\n",
    "from functools import reduce\n",
    "l=[2,2,3,4,5,6,9,4,3]\n",
    "y=reduce(lambda x,y:x+y,l)\n",
    "print(y)"
   ]
  },
  {
   "cell_type": "code",
   "execution_count": 33,
   "id": "9545958f",
   "metadata": {},
   "outputs": [
    {
     "name": "stdout",
     "output_type": "stream",
     "text": [
      "13\n"
     ]
    }
   ],
   "source": [
    "# return the max value from the list\n",
    "l=[2,2,3,4,5,6,9,4,13]\n",
    "y=reduce(lambda x,y:max(x,y),l)\n",
    "print(y)"
   ]
  },
  {
   "cell_type": "code",
   "execution_count": 34,
   "id": "4234996b",
   "metadata": {},
   "outputs": [
    {
     "name": "stdout",
     "output_type": "stream",
     "text": [
      "13\n"
     ]
    }
   ],
   "source": [
    "# return the max value from the list\n",
    "l=[2,2,3,4,5,6,9,4,13]\n",
    "y=reduce((lambda x,y:x if x>y else y),l)\n",
    "print(y)"
   ]
  },
  {
   "cell_type": "code",
   "execution_count": 35,
   "id": "9973de73",
   "metadata": {},
   "outputs": [
    {
     "name": "stdout",
     "output_type": "stream",
     "text": [
      "{1: 'x', 2: 'y', 3: 'z'}\n"
     ]
    }
   ],
   "source": [
    "# wap to reverse the key and value of a given dictionary usind dictionary comprehension\n",
    "#dictionary :{'x':1,'y':2,'z':3}\n",
    "#expected output:{1:'x',2:'y',3:'z'}\n",
    "d={'x':1,'y':2,'z':3}\n",
    "d1={v:k for k,v in d.items()}\n",
    "print(d1)"
   ]
  }
 ],
 "metadata": {
  "kernelspec": {
   "display_name": "Python 3",
   "language": "python",
   "name": "python3"
  },
  "language_info": {
   "codemirror_mode": {
    "name": "ipython",
    "version": 3
   },
   "file_extension": ".py",
   "mimetype": "text/x-python",
   "name": "python",
   "nbconvert_exporter": "python",
   "pygments_lexer": "ipython3",
   "version": "3.12.6"
  }
 },
 "nbformat": 4,
 "nbformat_minor": 5
}
