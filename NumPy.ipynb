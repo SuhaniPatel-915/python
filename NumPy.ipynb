{
 "cells": [
  {
   "cell_type": "code",
   "execution_count": 3,
   "id": "b2071497",
   "metadata": {},
   "outputs": [
    {
     "name": "stdout",
     "output_type": "stream",
     "text": [
      "Defaulting to user installation because normal site-packages is not writeable\n",
      "Requirement already satisfied: numpy in c:\\users\\dell\\appdata\\roaming\\python\\python312\\site-packages (2.3.1)\n"
     ]
    },
    {
     "name": "stderr",
     "output_type": "stream",
     "text": [
      "\n",
      "[notice] A new release of pip is available: 24.2 -> 25.1.1\n",
      "[notice] To update, run: python.exe -m pip install --upgrade pip\n"
     ]
    }
   ],
   "source": [
    "! pip3 install numpy"
   ]
  },
  {
   "cell_type": "code",
   "execution_count": 1,
   "id": "dd76faa6",
   "metadata": {},
   "outputs": [],
   "source": [
    "import numpy as np"
   ]
  },
  {
   "cell_type": "code",
   "execution_count": 4,
   "id": "06d2ee86",
   "metadata": {},
   "outputs": [
    {
     "name": "stdout",
     "output_type": "stream",
     "text": [
      "<class 'numpy.ndarray'>\n"
     ]
    }
   ],
   "source": [
    "#using array function to create an array \n",
    "x=np.array([1,2,3,4,5,6,5.5])\n",
    "print(type(x))"
   ]
  },
  {
   "cell_type": "code",
   "execution_count": 5,
   "id": "d226c93b",
   "metadata": {},
   "outputs": [
    {
     "name": "stdout",
     "output_type": "stream",
     "text": [
      "[1.  2.  3.  4.  5.  6.  5.5]\n"
     ]
    }
   ],
   "source": [
    "#using array function to create an array \n",
    "x=np.array([1,2,3,4,5,6,5.5])\n",
    "print(x)"
   ]
  },
  {
   "cell_type": "code",
   "execution_count": 6,
   "id": "67cd677c",
   "metadata": {},
   "outputs": [
    {
     "name": "stdout",
     "output_type": "stream",
     "text": [
      "[0 1 2 3]\n"
     ]
    }
   ],
   "source": [
    "#using .arrange method\n",
    "a=np.arange(4)\n",
    "print(a)"
   ]
  },
  {
   "cell_type": "code",
   "execution_count": 7,
   "id": "f73f51c4",
   "metadata": {},
   "outputs": [
    {
     "name": "stdout",
     "output_type": "stream",
     "text": [
      "[-10  -9  -8  -7  -6  -5]\n"
     ]
    }
   ],
   "source": [
    "a=np.arange(-10,-4,1)\n",
    "print(a)"
   ]
  },
  {
   "cell_type": "code",
   "execution_count": 8,
   "id": "4e626357",
   "metadata": {},
   "outputs": [
    {
     "name": "stdout",
     "output_type": "stream",
     "text": [
      "[]\n"
     ]
    }
   ],
   "source": [
    "a=np.arange(-10,-4,-1)\n",
    "print(a)"
   ]
  },
  {
   "cell_type": "code",
   "execution_count": 9,
   "id": "2845bccc",
   "metadata": {},
   "outputs": [
    {
     "name": "stdout",
     "output_type": "stream",
     "text": [
      "[10]\n"
     ]
    }
   ],
   "source": [
    "a=np.arange(10,-4,-20)\n",
    "print(a)"
   ]
  },
  {
   "cell_type": "code",
   "execution_count": 10,
   "id": "1c2e1899",
   "metadata": {},
   "outputs": [
    {
     "name": "stdout",
     "output_type": "stream",
     "text": [
      "[[0.80062774 0.76031281 0.8259271 ]\n",
      " [0.7728617  0.02151702 0.18355719]\n",
      " [0.16903368 0.68844288 0.46569989]\n",
      " [0.04006584 0.36747866 0.30067207]]\n"
     ]
    }
   ],
   "source": [
    "#creates array with random values\n",
    "a1=np.random.random(size=(4,3)) \n",
    "print(a1)"
   ]
  },
  {
   "cell_type": "code",
   "execution_count": 11,
   "id": "bf9514eb",
   "metadata": {},
   "outputs": [
    {
     "name": "stdout",
     "output_type": "stream",
     "text": [
      "[ 3 47  8  1 14  8]\n",
      "\n",
      "[[9 3 7 5]\n",
      " [0 7 7 4]\n",
      " [8 8 7 3]]\n",
      "\n",
      "[[[3 1 9 2 5]\n",
      "  [2 0 0 6 2]\n",
      "  [2 7 6 8 3]\n",
      "  [6 8 4 0 7]]\n",
      "\n",
      " [[7 0 2 4 1]\n",
      "  [6 5 4 5 8]\n",
      "  [2 4 5 1 0]\n",
      "  [5 9 3 2 7]]\n",
      "\n",
      " [[5 2 7 8 8]\n",
      "  [9 7 0 3 8]\n",
      "  [2 0 6 6 2]\n",
      "  [2 4 3 0 8]]]\n"
     ]
    }
   ],
   "source": [
    "x1=np.random.randint(50,size=6) #1D\n",
    "x2=np.random.randint(10,size=(3,4)) #2D\n",
    "x3=np.random.randint(10,size=(3,4,5)) #3D\n",
    "print(x1)\n",
    "print()\n",
    "print(x2)\n",
    "print()\n",
    "print(x3)"
   ]
  },
  {
   "cell_type": "code",
   "execution_count": 13,
   "id": "b8dd8416",
   "metadata": {},
   "outputs": [],
   "source": [
    "#0(Zero)-D arrays,or Scalars are the elements in an array .each value in an array is a zero dimensional"
   ]
  },
  {
   "cell_type": "code",
   "execution_count": 14,
   "id": "180291a5",
   "metadata": {},
   "outputs": [
    {
     "name": "stdout",
     "output_type": "stream",
     "text": [
      "[42]\n",
      "Dimensions :  1\n"
     ]
    }
   ],
   "source": [
    "arr=np.array([42])\n",
    "print(arr)\n",
    "print('Dimensions : ',arr.ndim)"
   ]
  },
  {
   "cell_type": "code",
   "execution_count": 15,
   "id": "626e57fb",
   "metadata": {},
   "outputs": [
    {
     "name": "stdout",
     "output_type": "stream",
     "text": [
      "[1 2 3 4 5]\n",
      "Dimensions :  1\n"
     ]
    }
   ],
   "source": [
    "arr=np.array([1,2,3,4,5])\n",
    "print(arr)\n",
    "print('Dimensions : ',arr.ndim)"
   ]
  },
  {
   "cell_type": "code",
   "execution_count": 16,
   "id": "5d3c2095",
   "metadata": {},
   "outputs": [
    {
     "name": "stdout",
     "output_type": "stream",
     "text": [
      "[[1 2 3 4]\n",
      " [6 7 8 9]]\n",
      "Dimensions :  2\n"
     ]
    }
   ],
   "source": [
    "data2=[[1,2,3,4],[6,7,8,9]]\n",
    "arr2=np.array(data2)\n",
    "print(arr2)\n",
    "print('Dimensions : ',arr2.ndim)"
   ]
  },
  {
   "cell_type": "code",
   "execution_count": 17,
   "id": "45090e4f",
   "metadata": {},
   "outputs": [
    {
     "name": "stdout",
     "output_type": "stream",
     "text": [
      "[[[13 17 25 33  8]\n",
      "  [21 24 19  9  6]\n",
      "  [41 29  3  2 35]\n",
      "  [ 5 31 14 19 21]]\n",
      "\n",
      " [[22 15 22 13 49]\n",
      "  [48 25 37 31 44]\n",
      "  [ 8 42 26 28 10]\n",
      "  [33 42 49  1 48]]\n",
      "\n",
      " [[44 15 27 38 10]\n",
      "  [28  0 24 24 14]\n",
      "  [16  4 34 24 32]\n",
      "  [19 49 33  4  2]]]\n",
      "Dimensions :  3\n"
     ]
    }
   ],
   "source": [
    "arr3=np.random.randint(50,size=(3,4,5))\n",
    "print(arr3)\n",
    "print('Dimensions : ',arr3.ndim)"
   ]
  },
  {
   "cell_type": "code",
   "execution_count": 18,
   "id": "19fac678",
   "metadata": {},
   "outputs": [
    {
     "name": "stdout",
     "output_type": "stream",
     "text": [
      "[[[[48  7]\n",
      "   [ 7  3]\n",
      "   [11 43]\n",
      "   [10 45]\n",
      "   [49 19]]\n",
      "\n",
      "  [[ 4  5]\n",
      "   [43 41]\n",
      "   [23 20]\n",
      "   [25 18]\n",
      "   [40 23]]\n",
      "\n",
      "  [[41  1]\n",
      "   [29  1]\n",
      "   [16 46]\n",
      "   [17 34]\n",
      "   [13 30]]\n",
      "\n",
      "  [[47 16]\n",
      "   [15 23]\n",
      "   [31  5]\n",
      "   [33 11]\n",
      "   [20  5]]]\n",
      "\n",
      "\n",
      " [[[ 4 10]\n",
      "   [ 8 30]\n",
      "   [19 35]\n",
      "   [39  5]\n",
      "   [ 6 26]]\n",
      "\n",
      "  [[34  0]\n",
      "   [40  1]\n",
      "   [18 33]\n",
      "   [42 37]\n",
      "   [14 30]]\n",
      "\n",
      "  [[21 37]\n",
      "   [15  8]\n",
      "   [23 37]\n",
      "   [22 26]\n",
      "   [19 25]]\n",
      "\n",
      "  [[17 21]\n",
      "   [ 1  8]\n",
      "   [26 44]\n",
      "   [25 24]\n",
      "   [19 33]]]\n",
      "\n",
      "\n",
      " [[[41 33]\n",
      "   [23 35]\n",
      "   [21  3]\n",
      "   [18 14]\n",
      "   [38 46]]\n",
      "\n",
      "  [[25  6]\n",
      "   [24 25]\n",
      "   [ 9 40]\n",
      "   [31 38]\n",
      "   [18 27]]\n",
      "\n",
      "  [[25 42]\n",
      "   [41 46]\n",
      "   [22  8]\n",
      "   [24 42]\n",
      "   [31 26]]\n",
      "\n",
      "  [[ 0 49]\n",
      "   [20 16]\n",
      "   [37  6]\n",
      "   [47  2]\n",
      "   [29 28]]]]\n",
      "Dimensions :  4\n"
     ]
    }
   ],
   "source": [
    "arr4=np.random.randint(50,size=(3,4,5,2))\n",
    "print(arr4)\n",
    "print('Dimensions : ',arr4.ndim)"
   ]
  },
  {
   "cell_type": "code",
   "execution_count": 19,
   "id": "7c305ac9",
   "metadata": {},
   "outputs": [
    {
     "name": "stdout",
     "output_type": "stream",
     "text": [
      "[0 1 2 3 4 5 6 7 8 9]\n",
      "\n",
      "[[ 0  1  2  3]\n",
      " [ 4  5  6  7]\n",
      " [ 8  9 10 11]]\n",
      "\n",
      "[[[ 0  1  2]\n",
      "  [ 3  4  5]\n",
      "  [ 6  7  8]\n",
      "  [ 9 10 11]]\n",
      "\n",
      " [[12 13 14]\n",
      "  [15 16 17]\n",
      "  [18 19 20]\n",
      "  [21 22 23]]]\n"
     ]
    }
   ],
   "source": [
    "#Reshape method\n",
    "arr1=np.arange(10)\n",
    "arr2=np.arange(12).reshape(3,4)\n",
    "arr3=np.arange(24).reshape(2,4,3)\n",
    "print(arr1)\n",
    "print()\n",
    "print(arr2)\n",
    "print()\n",
    "print(arr3)"
   ]
  },
  {
   "cell_type": "code",
   "execution_count": 20,
   "id": "8da2e872",
   "metadata": {},
   "outputs": [
    {
     "name": "stdout",
     "output_type": "stream",
     "text": [
      "[2 4 6 8]\n",
      "[0 1 2 3 4 5 6 7 8 9]\n",
      "[9 8 7 6 5 4 3 2 1 0]\n"
     ]
    }
   ],
   "source": [
    "print(arr1[2::2])\n",
    "print(arr1[::])\n",
    "print(arr1[::-1])"
   ]
  },
  {
   "cell_type": "code",
   "execution_count": 21,
   "id": "db60fa1b",
   "metadata": {},
   "outputs": [
    {
     "name": "stdout",
     "output_type": "stream",
     "text": [
      "[[ 0  1  2  3]\n",
      " [ 4  5  6  7]\n",
      " [ 8  9 10 11]]\n"
     ]
    }
   ],
   "source": [
    "print(arr2)"
   ]
  },
  {
   "cell_type": "code",
   "execution_count": 23,
   "id": "196e1e6b",
   "metadata": {},
   "outputs": [
    {
     "data": {
      "text/plain": [
       "array([[ 4,  6],\n",
       "       [ 8, 10]])"
      ]
     },
     "execution_count": 23,
     "metadata": {},
     "output_type": "execute_result"
    }
   ],
   "source": [
    "arr2[1::,::2]"
   ]
  },
  {
   "cell_type": "code",
   "execution_count": null,
   "id": "f0687be5",
   "metadata": {},
   "outputs": [
    {
     "name": "stdout",
     "output_type": "stream",
     "text": [
      "[0 1 2 3]\n",
      "\n",
      "[0 4 8]\n",
      "\n",
      "[[ 5  6  7]\n",
      " [ 9 10 11]]\n",
      "\n",
      "[[0 1]\n",
      " [8 9]]\n"
     ]
    }
   ],
   "source": [
    "print(arr2[0,:])\n",
    "print()\n",
    "print(arr2[:,0])\n",
    "print()\n",
    "print(arr2[1:,1:])\n",
    "print()\n",
    "print(arr2[0::2,:2:])"
   ]
  },
  {
   "cell_type": "code",
   "execution_count": 24,
   "id": "a7099be8",
   "metadata": {},
   "outputs": [
    {
     "name": "stdout",
     "output_type": "stream",
     "text": [
      "[[ 5  7]\n",
      " [ 9 11]]\n"
     ]
    }
   ],
   "source": [
    "print(arr2[1::1,1::2])"
   ]
  },
  {
   "cell_type": "code",
   "execution_count": 25,
   "id": "bb2e0370",
   "metadata": {},
   "outputs": [
    {
     "name": "stdout",
     "output_type": "stream",
     "text": [
      "[[[ 0  1  2]\n",
      "  [ 3  4  5]\n",
      "  [ 6  7  8]\n",
      "  [ 9 10 11]]\n",
      "\n",
      " [[12 13 14]\n",
      "  [15 16 17]\n",
      "  [18 19 20]\n",
      "  [21 22 23]]]\n"
     ]
    }
   ],
   "source": [
    "arr3=np.arange(24).reshape(2,4,3)\n",
    "print(arr3)"
   ]
  },
  {
   "cell_type": "code",
   "execution_count": 38,
   "id": "9bd3cc90",
   "metadata": {},
   "outputs": [
    {
     "name": "stdout",
     "output_type": "stream",
     "text": [
      "[[[ 0  2]\n",
      "  [ 9 11]]\n",
      "\n",
      " [[12 14]\n",
      "  [21 23]]]\n",
      "\n",
      "[[[20 18]\n",
      "  [14 12]]\n",
      "\n",
      " [[ 8  6]\n",
      "  [ 2  0]]]\n"
     ]
    }
   ],
   "source": [
    "print(arr3[:,::3,::2])\n",
    "print()\n",
    "print(arr3[::-1,-2::-2,-1::-2])"
   ]
  },
  {
   "cell_type": "code",
   "execution_count": 41,
   "id": "10d93eb1",
   "metadata": {},
   "outputs": [
    {
     "data": {
      "text/plain": [
       "array([[[19, 18],\n",
       "        [16, 15],\n",
       "        [13, 12]],\n",
       "\n",
       "       [[ 7,  6],\n",
       "        [ 4,  3],\n",
       "        [ 1,  0]]])"
      ]
     },
     "execution_count": 41,
     "metadata": {},
     "output_type": "execute_result"
    }
   ],
   "source": [
    "arr3[::-1,-2::-1,-2::-1]"
   ]
  },
  {
   "cell_type": "code",
   "execution_count": null,
   "id": "6fee986c",
   "metadata": {},
   "outputs": [],
   "source": []
  },
  {
   "cell_type": "code",
   "execution_count": 26,
   "id": "11842ded",
   "metadata": {},
   "outputs": [
    {
     "name": "stdout",
     "output_type": "stream",
     "text": [
      "[[ 0  1  2]\n",
      " [ 3  4  5]\n",
      " [ 6  7  8]\n",
      " [ 9 10 11]]\n",
      "\n",
      "[0 1 2]\n",
      "\n",
      "[[12 13 14]\n",
      " [15 16 17]\n",
      " [18 19 20]]\n",
      "\n",
      "[[0 2]\n",
      " [3 5]]\n"
     ]
    }
   ],
   "source": [
    "print(arr3[0],end='\\n\\n')\n",
    "print(arr3[0,0],end='\\n\\n')\n",
    "print(arr3[1,:3],end='\\n\\n')\n",
    "print(arr3[0,:2,::2])"
   ]
  },
  {
   "cell_type": "code",
   "execution_count": 27,
   "id": "8584956b",
   "metadata": {},
   "outputs": [
    {
     "data": {
      "text/plain": [
       "array([[15, 17],\n",
       "       [21, 23]])"
      ]
     },
     "execution_count": 27,
     "metadata": {},
     "output_type": "execute_result"
    }
   ],
   "source": [
    "arr3[1,1::2,::2]"
   ]
  },
  {
   "cell_type": "code",
   "execution_count": null,
   "id": "0faf4fc8",
   "metadata": {},
   "outputs": [
    {
     "name": "stdout",
     "output_type": "stream",
     "text": [
      "int64\n",
      "float64\n",
      "8\n",
      "8\n",
      "32\n",
      "40\n"
     ]
    }
   ],
   "source": [
    "#Attribute\n",
    "a1=np.array([1,2,3,4])\n",
    "a2=np.array([1,1,2.2,3.3,4.4])\n",
    "#here \"dtype\" specifies  the type of the element contained in the array\n",
    "print(a1.dtype)\n",
    "print(a2.dtype)\n",
    "#number of bytes occupied by individual array are available through itemsize\n",
    "print(a1.itemsize)\n",
    "print(a2.itemsize)\n",
    "#number of bytes occupied by entire are available through \"itemsize\"\n",
    "print(a1.nbytes)\n",
    "print(a2.nbytes)"
   ]
  },
  {
   "cell_type": "code",
   "execution_count": 44,
   "id": "dca025a3",
   "metadata": {},
   "outputs": [
    {
     "name": "stdout",
     "output_type": "stream",
     "text": [
      "1\n",
      "2\n",
      "(4,)\n",
      "(2, 4)\n",
      "4\n",
      "8\n"
     ]
    }
   ],
   "source": [
    "a1=np.array([1,2,3,4])\n",
    "a2=np.array([[1,2,3,4],[5,6,7,8]])\n",
    "print(a1.ndim)\n",
    "print(a2.ndim)\n",
    "\n",
    "print(a1.shape)\n",
    "print(a2.shape)\n",
    "\n",
    "print(a1.size)\n",
    "print(a2.size)"
   ]
  },
  {
   "cell_type": "code",
   "execution_count": 45,
   "id": "8e4c38aa",
   "metadata": {},
   "outputs": [
    {
     "name": "stdout",
     "output_type": "stream",
     "text": [
      "[0 0 0 0 0 0 0 0 0 0]\n",
      "\n",
      "[[0 0 0 0 0 0]\n",
      " [0 0 0 0 0 0]\n",
      " [0 0 0 0 0 0]]\n",
      "\n",
      "[[[0. 0.]\n",
      "  [0. 0.]\n",
      "  [0. 0.]]\n",
      "\n",
      " [[0. 0.]\n",
      "  [0. 0.]\n",
      "  [0. 0.]]]\n"
     ]
    }
   ],
   "source": [
    "#numpy array function\n",
    "#ones create array of 0's\n",
    "print(np.zeros(10,dtype='int'))\n",
    "print()\n",
    "print(np.zeros((3,6),dtype='int'))\n",
    "print()\n",
    "print(np.zeros((2,3,2)))"
   ]
  },
  {
   "cell_type": "code",
   "execution_count": null,
   "id": "49830d1c",
   "metadata": {},
   "outputs": [
    {
     "name": "stdout",
     "output_type": "stream",
     "text": [
      "[1 1 1 1 1 1 1 1 1 1]\n",
      "\n",
      "[[1. 1. 1. 1. 1. 1.]\n",
      " [1. 1. 1. 1. 1. 1.]\n",
      " [1. 1. 1. 1. 1. 1.]]\n",
      "\n",
      "[[[1. 1.]\n",
      "  [1. 1.]\n",
      "  [1. 1.]]\n",
      "\n",
      " [[1. 1.]\n",
      "  [1. 1.]\n",
      "  [1. 1.]]]\n"
     ]
    }
   ],
   "source": [
    "#ones create array of 1's\n",
    "print(np.ones(10,dtype='int'))\n",
    "print()\n",
    "print(np.ones((3,6)))\n",
    "print()\n",
    "print(np.ones((2,3,2)))"
   ]
  },
  {
   "cell_type": "code",
   "execution_count": 41,
   "id": "cd518598",
   "metadata": {},
   "outputs": [
    {
     "data": {
      "text/plain": [
       "array([[1., 0., 0., 0.],\n",
       "       [0., 1., 0., 0.],\n",
       "       [0., 0., 1., 0.],\n",
       "       [0., 0., 0., 1.]])"
      ]
     },
     "execution_count": 41,
     "metadata": {},
     "output_type": "execute_result"
    }
   ],
   "source": [
    "np.identity(4) # default data as float"
   ]
  },
  {
   "cell_type": "code",
   "execution_count": 2,
   "id": "fb39ba1b",
   "metadata": {},
   "outputs": [
    {
     "name": "stdout",
     "output_type": "stream",
     "text": [
      "[1 3 5 7]\n",
      "[2 4 6 8]\n"
     ]
    }
   ],
   "source": [
    "a1=np.array([1,3,5,7])\n",
    "a2=np.array([2,4,6,8])\n",
    "print(a1)\n",
    "print(a2)"
   ]
  },
  {
   "cell_type": "code",
   "execution_count": 3,
   "id": "331ecca7",
   "metadata": {},
   "outputs": [
    {
     "name": "stdout",
     "output_type": "stream",
     "text": [
      "[ 6  8 10 12]\n",
      "[-4 -2  0  2]\n",
      "[ 2  6 10 14]\n",
      "[0.5 1.5 2.5 3.5]\n",
      "[0 1 2 3]\n",
      "[-1 -3 -5 -7]\n",
      "[ 1  9 25 49]\n",
      "[1 1 1 1]\n"
     ]
    }
   ],
   "source": [
    "#All scalar operation on 1D array using operation\n",
    "print(a1+5)\n",
    "print(a1-5)\n",
    "print(a1*2)\n",
    "print(a1/2)\n",
    "print(a1//2) #flow division gives int value\n",
    "print(-a1)\n",
    "print(a1**2)\n",
    "print(a1%2)"
   ]
  },
  {
   "cell_type": "code",
   "execution_count": 4,
   "id": "c6865389",
   "metadata": {},
   "outputs": [
    {
     "name": "stdout",
     "output_type": "stream",
     "text": [
      "[ 3  7 11 15]\n",
      "[-1 -1 -1 -1]\n",
      "[ 2 12 30 56]\n",
      "[0.5        0.75       0.83333333 0.875     ]\n",
      "[0 0 0 0]\n",
      "[      1      81   15625 5764801]\n",
      "[1 3 5 7]\n"
     ]
    }
   ],
   "source": [
    "#All vector operation on 1D array using operation\n",
    "print(a1+a2)\n",
    "print(a1-a2)\n",
    "print(a1*a2)\n",
    "print(a1/a2)\n",
    "print(a1//a2)\n",
    "print(a1**a2)\n",
    "print(a1%a2)"
   ]
  },
  {
   "cell_type": "code",
   "execution_count": 6,
   "id": "da01e056",
   "metadata": {},
   "outputs": [
    {
     "data": {
      "text/plain": [
       "np.int64(208)"
      ]
     },
     "execution_count": 6,
     "metadata": {},
     "output_type": "execute_result"
    }
   ],
   "source": [
    "#DOT PRODUCT\n",
    "#1D array\n",
    "arr1=np.array([9,10,20])\n",
    "arr2=np.array([2,5,7])\n",
    "\n",
    "np.dot(arr1,arr2)"
   ]
  },
  {
   "cell_type": "code",
   "execution_count": 5,
   "id": "13a47506",
   "metadata": {},
   "outputs": [
    {
     "data": {
      "text/plain": [
       "array([[ 42,  48,  54],\n",
       "       [114, 136, 158],\n",
       "       [186, 224, 262]])"
      ]
     },
     "execution_count": 5,
     "metadata": {},
     "output_type": "execute_result"
    }
   ],
   "source": [
    "#2D array\n",
    "arr1=np.arange(12).reshape(3,4)\n",
    "arr2=np.arange(12).reshape(4,3)\n",
    "\n",
    "np.dot(arr1,arr2)"
   ]
  },
  {
   "cell_type": "code",
   "execution_count": 9,
   "id": "0cffc6cf",
   "metadata": {},
   "outputs": [
    {
     "data": {
      "text/plain": [
       "array([[ 0,  1,  2,  3,  4],\n",
       "       [ 5,  6,  7,  8,  9],\n",
       "       [10, 11, 12, 13, 14],\n",
       "       [15, 16, 17, 18, 19]])"
      ]
     },
     "execution_count": 9,
     "metadata": {},
     "output_type": "execute_result"
    }
   ],
   "source": [
    "#statisatic\n",
    "# IN NUMPY X=0 COLOUMN \n",
    "# AND X=2 ROW\n",
    "x=np.arange(20).reshape(4,5)\n",
    "x"
   ]
  },
  {
   "cell_type": "code",
   "execution_count": 10,
   "id": "11a99f1e",
   "metadata": {},
   "outputs": [
    {
     "data": {
      "text/plain": [
       "np.float64(9.5)"
      ]
     },
     "execution_count": 10,
     "metadata": {},
     "output_type": "execute_result"
    }
   ],
   "source": [
    "np.mean(x)"
   ]
  },
  {
   "cell_type": "code",
   "execution_count": null,
   "id": "4381e949",
   "metadata": {},
   "outputs": [
    {
     "data": {
      "text/plain": [
       "array([ 7.5,  8.5,  9.5, 10.5, 11.5])"
      ]
     },
     "execution_count": 11,
     "metadata": {},
     "output_type": "execute_result"
    }
   ],
   "source": [
    "np.mean(x,axis=0) #colomn wise mean"
   ]
  },
  {
   "cell_type": "code",
   "execution_count": 12,
   "id": "3f1c044d",
   "metadata": {},
   "outputs": [
    {
     "data": {
      "text/plain": [
       "array([ 2.,  7., 12., 17.])"
      ]
     },
     "execution_count": 12,
     "metadata": {},
     "output_type": "execute_result"
    }
   ],
   "source": [
    "np.mean(x,axis=1) #row wise mean"
   ]
  },
  {
   "cell_type": "code",
   "execution_count": 13,
   "id": "918465af",
   "metadata": {},
   "outputs": [
    {
     "data": {
      "text/plain": [
       "np.int64(0)"
      ]
     },
     "execution_count": 13,
     "metadata": {},
     "output_type": "execute_result"
    }
   ],
   "source": [
    "np.min(x)"
   ]
  },
  {
   "cell_type": "code",
   "execution_count": 14,
   "id": "ecd7719f",
   "metadata": {},
   "outputs": [
    {
     "data": {
      "text/plain": [
       "np.int64(19)"
      ]
     },
     "execution_count": 14,
     "metadata": {},
     "output_type": "execute_result"
    }
   ],
   "source": [
    "np.max(x)"
   ]
  },
  {
   "cell_type": "code",
   "execution_count": null,
   "id": "b24af8f6",
   "metadata": {},
   "outputs": [
    {
     "data": {
      "text/plain": [
       "array([0, 1, 2, 3, 4])"
      ]
     },
     "execution_count": 15,
     "metadata": {},
     "output_type": "execute_result"
    }
   ],
   "source": [
    "np.min(x,axis=0) #calculate colomn wise min"
   ]
  },
  {
   "cell_type": "code",
   "execution_count": null,
   "id": "7a208eb8",
   "metadata": {},
   "outputs": [
    {
     "data": {
      "text/plain": [
       "array([ 0,  5, 10, 15])"
      ]
     },
     "execution_count": 17,
     "metadata": {},
     "output_type": "execute_result"
    }
   ],
   "source": [
    "np.min(x,axis=1) # calculate row wise min"
   ]
  },
  {
   "cell_type": "code",
   "execution_count": null,
   "id": "07700c09",
   "metadata": {},
   "outputs": [
    {
     "data": {
      "text/plain": [
       "array([15, 16, 17, 18, 19])"
      ]
     },
     "execution_count": 16,
     "metadata": {},
     "output_type": "execute_result"
    }
   ],
   "source": [
    "np.max(x,axis=0) #calculate column wise max"
   ]
  },
  {
   "cell_type": "code",
   "execution_count": null,
   "id": "5a63618e",
   "metadata": {},
   "outputs": [
    {
     "data": {
      "text/plain": [
       "array([ 4,  9, 14, 19])"
      ]
     },
     "execution_count": 19,
     "metadata": {},
     "output_type": "execute_result"
    }
   ],
   "source": [
    "np.max(x,axis=1) # calculate row wise max"
   ]
  },
  {
   "cell_type": "code",
   "execution_count": null,
   "id": "14af42f7",
   "metadata": {},
   "outputs": [
    {
     "data": {
      "text/plain": [
       "np.int64(190)"
      ]
     },
     "execution_count": 20,
     "metadata": {},
     "output_type": "execute_result"
    }
   ],
   "source": [
    "np.sum(x) #calculate the sum of array"
   ]
  },
  {
   "cell_type": "code",
   "execution_count": 21,
   "id": "24496aa8",
   "metadata": {},
   "outputs": [
    {
     "data": {
      "text/plain": [
       "array([30, 34, 38, 42, 46])"
      ]
     },
     "execution_count": 21,
     "metadata": {},
     "output_type": "execute_result"
    }
   ],
   "source": [
    "np.sum(x,axis=0) #calculate column wise sum"
   ]
  },
  {
   "cell_type": "code",
   "execution_count": 22,
   "id": "481b7329",
   "metadata": {},
   "outputs": [
    {
     "data": {
      "text/plain": [
       "array([10, 35, 60, 85])"
      ]
     },
     "execution_count": 22,
     "metadata": {},
     "output_type": "execute_result"
    }
   ],
   "source": [
    "np.sum(x,axis=1) #calculate row wise sum"
   ]
  },
  {
   "cell_type": "code",
   "execution_count": 23,
   "id": "67b9ff15",
   "metadata": {},
   "outputs": [
    {
     "name": "stdout",
     "output_type": "stream",
     "text": [
      "\n",
      "25th Percentile:  4.75\n",
      "50th Percentile:  9.5\n",
      "75th Percentile:  14.25\n",
      "100th Percentile:  19.0\n"
     ]
    }
   ],
   "source": [
    "p25=np.percentile(x,25)\n",
    "p50=np.percentile(x,50)\n",
    "p75=np.percentile(x,75)\n",
    "p100=np.percentile(x,100)\n",
    "print()\n",
    "print(\"25th Percentile: \",p25)\n",
    "print(\"50th Percentile: \",p50)\n",
    "print(\"75th Percentile: \",p75)\n",
    "print(\"100th Percentile: \",p100)"
   ]
  },
  {
   "cell_type": "code",
   "execution_count": 24,
   "id": "5b3d4fc3",
   "metadata": {},
   "outputs": [
    {
     "name": "stdout",
     "output_type": "stream",
     "text": [
      "2 4 6 7 8 9 1 2 3 "
     ]
    }
   ],
   "source": [
    "#iterating through an array\n",
    "#1D array\n",
    "a1=np.array([2,4,6,7,8,9,1,2,3])\n",
    "for i in a1:\n",
    "    print(i,end=\" \")"
   ]
  },
  {
   "cell_type": "code",
   "execution_count": 26,
   "id": "edd992f8",
   "metadata": {},
   "outputs": [
    {
     "name": "stdout",
     "output_type": "stream",
     "text": [
      "[0 1 2 3 4]\n",
      "[5 6 7 8 9]\n",
      "[10 11 12 13 14]\n",
      "[15 16 17 18 19]\n"
     ]
    }
   ],
   "source": [
    "#2D array\n",
    "a2=np.arange(20).reshape(4,5)\n",
    "# print(a2)\n",
    "for i in a2:\n",
    "    print(i)"
   ]
  },
  {
   "cell_type": "code",
   "execution_count": 28,
   "id": "12b1e8b1",
   "metadata": {},
   "outputs": [
    {
     "name": "stdout",
     "output_type": "stream",
     "text": [
      "[[ 5  6  7  8  9]\n",
      " [15 16 17 18 19]\n",
      " [25 26 27 28 29]\n",
      " [35 36 37 38 39]]\n"
     ]
    }
   ],
   "source": [
    "a2=np.arange(20).reshape(4,5)\n",
    "cnt=5\n",
    "for i in range(len(a2)):\n",
    "    a2[i]+=cnt\n",
    "    cnt+=5\n",
    "print(a2)"
   ]
  },
  {
   "cell_type": "code",
   "execution_count": 29,
   "id": "6d10a92f",
   "metadata": {},
   "outputs": [],
   "source": [
    "#STACKING OF NUMPY ARRAY\n",
    "s1=np.arange(12).reshape(3,4)\n",
    "s2=np.arange(12,24).reshape(3,4)\n"
   ]
  },
  {
   "cell_type": "code",
   "execution_count": 30,
   "id": "991b946b",
   "metadata": {},
   "outputs": [
    {
     "data": {
      "text/plain": [
       "array([[ 0,  1,  2,  3],\n",
       "       [ 4,  5,  6,  7],\n",
       "       [ 8,  9, 10, 11]])"
      ]
     },
     "execution_count": 30,
     "metadata": {},
     "output_type": "execute_result"
    }
   ],
   "source": [
    "s1"
   ]
  },
  {
   "cell_type": "code",
   "execution_count": 31,
   "id": "75f44d0c",
   "metadata": {},
   "outputs": [
    {
     "data": {
      "text/plain": [
       "array([[12, 13, 14, 15],\n",
       "       [16, 17, 18, 19],\n",
       "       [20, 21, 22, 23]])"
      ]
     },
     "execution_count": 31,
     "metadata": {},
     "output_type": "execute_result"
    }
   ],
   "source": [
    "s2"
   ]
  },
  {
   "cell_type": "code",
   "execution_count": 33,
   "id": "ab0c1148",
   "metadata": {},
   "outputs": [
    {
     "data": {
      "text/plain": [
       "array([[ 0,  1,  2,  3, 12, 13, 14, 15],\n",
       "       [ 4,  5,  6,  7, 16, 17, 18, 19],\n",
       "       [ 8,  9, 10, 11, 20, 21, 22, 23]])"
      ]
     },
     "execution_count": 33,
     "metadata": {},
     "output_type": "execute_result"
    }
   ],
   "source": [
    "#horizontal stacking\n",
    "s3=np.hstack((s1,s2))\n",
    "s3"
   ]
  },
  {
   "cell_type": "code",
   "execution_count": 34,
   "id": "aec50e44",
   "metadata": {},
   "outputs": [
    {
     "data": {
      "text/plain": [
       "array([[ 0,  1,  2,  3],\n",
       "       [ 4,  5,  6,  7],\n",
       "       [ 8,  9, 10, 11],\n",
       "       [12, 13, 14, 15],\n",
       "       [16, 17, 18, 19],\n",
       "       [20, 21, 22, 23]])"
      ]
     },
     "execution_count": 34,
     "metadata": {},
     "output_type": "execute_result"
    }
   ],
   "source": [
    "#vertical stacking\n",
    "s4=np.vstack((s1,s2))\n",
    "s4"
   ]
  },
  {
   "cell_type": "code",
   "execution_count": null,
   "id": "a5b69c19",
   "metadata": {},
   "outputs": [
    {
     "data": {
      "text/plain": [
       "[array([[ 0,  1,  2,  3],\n",
       "        [ 4,  5,  6,  7],\n",
       "        [ 8,  9, 10, 11]]),\n",
       " array([[12, 13, 14, 15],\n",
       "        [16, 17, 18, 19],\n",
       "        [20, 21, 22, 23]])]"
      ]
     },
     "execution_count": 35,
     "metadata": {},
     "output_type": "execute_result"
    }
   ],
   "source": [
    "#SPLITING OF NUMPY ARRAY\n",
    "np.hsplit(s3,2) "
   ]
  },
  {
   "cell_type": "code",
   "execution_count": 36,
   "id": "baf09fa5",
   "metadata": {},
   "outputs": [
    {
     "data": {
      "text/plain": [
       "[array([[0, 1],\n",
       "        [4, 5],\n",
       "        [8, 9]]),\n",
       " array([[ 2,  3],\n",
       "        [ 6,  7],\n",
       "        [10, 11]]),\n",
       " array([[12, 13],\n",
       "        [16, 17],\n",
       "        [20, 21]]),\n",
       " array([[14, 15],\n",
       "        [18, 19],\n",
       "        [22, 23]])]"
      ]
     },
     "execution_count": 36,
     "metadata": {},
     "output_type": "execute_result"
    }
   ],
   "source": [
    "np.hsplit(s3,4)"
   ]
  },
  {
   "cell_type": "code",
   "execution_count": 37,
   "id": "36106dea",
   "metadata": {},
   "outputs": [
    {
     "data": {
      "text/plain": [
       "[array([[0],\n",
       "        [4],\n",
       "        [8]]),\n",
       " array([[1],\n",
       "        [5],\n",
       "        [9]]),\n",
       " array([[ 2],\n",
       "        [ 6],\n",
       "        [10]]),\n",
       " array([[ 3],\n",
       "        [ 7],\n",
       "        [11]]),\n",
       " array([[12],\n",
       "        [16],\n",
       "        [20]]),\n",
       " array([[13],\n",
       "        [17],\n",
       "        [21]]),\n",
       " array([[14],\n",
       "        [18],\n",
       "        [22]]),\n",
       " array([[15],\n",
       "        [19],\n",
       "        [23]])]"
      ]
     },
     "execution_count": 37,
     "metadata": {},
     "output_type": "execute_result"
    }
   ],
   "source": [
    "np.hsplit(s3,8)"
   ]
  },
  {
   "cell_type": "code",
   "execution_count": 38,
   "id": "307c7e1d",
   "metadata": {},
   "outputs": [
    {
     "data": {
      "text/plain": [
       "[array([[ 0,  1,  2,  3, 12, 13, 14, 15]]),\n",
       " array([[ 4,  5,  6,  7, 16, 17, 18, 19]]),\n",
       " array([[ 8,  9, 10, 11, 20, 21, 22, 23]])]"
      ]
     },
     "execution_count": 38,
     "metadata": {},
     "output_type": "execute_result"
    }
   ],
   "source": [
    "np.vsplit(s3,3)"
   ]
  },
  {
   "cell_type": "code",
   "execution_count": 40,
   "id": "c581bbe7",
   "metadata": {},
   "outputs": [
    {
     "data": {
      "text/plain": [
       "array([[ 0,  1,  2,  3],\n",
       "       [ 4,  5,  6,  7],\n",
       "       [ 8,  9, 10, 11],\n",
       "       [12, 13, 14, 15],\n",
       "       [16, 17, 18, 19],\n",
       "       [20, 21, 22, 23]])"
      ]
     },
     "execution_count": 40,
     "metadata": {},
     "output_type": "execute_result"
    }
   ],
   "source": [
    "s4"
   ]
  },
  {
   "cell_type": "code",
   "execution_count": 41,
   "id": "e13672ef",
   "metadata": {},
   "outputs": [
    {
     "data": {
      "text/plain": [
       "[array([[ 0,  1,  2,  3],\n",
       "        [ 4,  5,  6,  7],\n",
       "        [ 8,  9, 10, 11]]),\n",
       " array([[12, 13, 14, 15],\n",
       "        [16, 17, 18, 19],\n",
       "        [20, 21, 22, 23]])]"
      ]
     },
     "execution_count": 41,
     "metadata": {},
     "output_type": "execute_result"
    }
   ],
   "source": [
    "np.vsplit(s4,2)"
   ]
  },
  {
   "cell_type": "code",
   "execution_count": 42,
   "id": "3459b62e",
   "metadata": {},
   "outputs": [
    {
     "data": {
      "text/plain": [
       "[array([[0, 1, 2, 3]]),\n",
       " array([[4, 5, 6, 7]]),\n",
       " array([[ 8,  9, 10, 11]]),\n",
       " array([[12, 13, 14, 15]]),\n",
       " array([[16, 17, 18, 19]]),\n",
       " array([[20, 21, 22, 23]])]"
      ]
     },
     "execution_count": 42,
     "metadata": {},
     "output_type": "execute_result"
    }
   ],
   "source": [
    "np.vsplit(s4,6)"
   ]
  },
  {
   "cell_type": "code",
   "execution_count": 44,
   "id": "7a21e57a",
   "metadata": {},
   "outputs": [
    {
     "data": {
      "text/plain": [
       "[array([[0, 1, 2, 3],\n",
       "        [4, 5, 6, 7]]),\n",
       " array([[ 8,  9, 10, 11],\n",
       "        [12, 13, 14, 15]]),\n",
       " array([[16, 17, 18, 19],\n",
       "        [20, 21, 22, 23]])]"
      ]
     },
     "execution_count": 44,
     "metadata": {},
     "output_type": "execute_result"
    }
   ],
   "source": [
    "np.vsplit(s4,3)"
   ]
  },
  {
   "cell_type": "code",
   "execution_count": 45,
   "id": "e997b9c0",
   "metadata": {},
   "outputs": [
    {
     "name": "stdout",
     "output_type": "stream",
     "text": [
      "[6 3 1 7 8]\n"
     ]
    }
   ],
   "source": [
    "#wap which makes an array having corresponding max value out of given two arrays\n",
    "a=np.array([6,3,1,5,8])\n",
    "b=np.array([3,2,1,7,2])                           #output[6,3,1,7,2]\n",
    "lst=[]\n",
    "for i in range(len(a)):\n",
    "    lst.append(max(a[i],b[i]))\n",
    "print(np.array(lst))"
   ]
  }
 ],
 "metadata": {
  "kernelspec": {
   "display_name": "Python 3",
   "language": "python",
   "name": "python3"
  },
  "language_info": {
   "codemirror_mode": {
    "name": "ipython",
    "version": 3
   },
   "file_extension": ".py",
   "mimetype": "text/x-python",
   "name": "python",
   "nbconvert_exporter": "python",
   "pygments_lexer": "ipython3",
   "version": "3.12.6"
  }
 },
 "nbformat": 4,
 "nbformat_minor": 5
}
