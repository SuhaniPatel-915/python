{
 "cells": [
  {
   "cell_type": "code",
   "execution_count": 1,
   "id": "cb5cbe9a",
   "metadata": {},
   "outputs": [
    {
     "name": "stdout",
     "output_type": "stream",
     "text": [
      "hello\n"
     ]
    }
   ],
   "source": [
    "print(\"hello\")"
   ]
  },
  {
   "cell_type": "code",
   "execution_count": 3,
   "id": "cde61dc3",
   "metadata": {},
   "outputs": [
    {
     "name": "stdout",
     "output_type": "stream",
     "text": [
      "140709144365624 140709144365688 140709144365624\n",
      "140709144365624 1922506297808 140709144365624\n"
     ]
    }
   ],
   "source": [
    "x=5\n",
    "y=7\n",
    "z=5\n",
    "print(id(x),id(y),id(z))\n",
    "y=\"hello\"\n",
    "print(id(x),id(y),id(z))"
   ]
  },
  {
   "cell_type": "code",
   "execution_count": null,
   "id": "09abb2a7",
   "metadata": {},
   "outputs": [
    {
     "name": "stdout",
     "output_type": "stream",
     "text": [
      "my name is  Suhani    my age is  20 and height is  5.4\n"
     ]
    }
   ],
   "source": [
    "name=input(\"Enter your name\")\n",
    "age=int(input(\"Enter your age\"))\n",
    "h=float(input(\"Enter your height\"))\n",
    "print(\"my name is\",name,\"my age is\",age,\"and height is\",h)"
   ]
  },
  {
   "cell_type": "code",
   "execution_count": 2,
   "id": "59d082ee",
   "metadata": {},
   "outputs": [
    {
     "name": "stdout",
     "output_type": "stream",
     "text": [
      "my name is Suhani my age is 20 and height is 5.4\n"
     ]
    }
   ],
   "source": [
    "name=eval(input(\"Enter your name\"))\n",
    "age=eval(input(\"Enter your age\"))\n",
    "h=eval(input(\"Enter your height\"))\n",
    "print(\"my name is\",name,\"my age is\",age,\"and height is\",h)"
   ]
  },
  {
   "cell_type": "code",
   "execution_count": 3,
   "id": "5549b700",
   "metadata": {},
   "outputs": [
    {
     "name": "stdout",
     "output_type": "stream",
     "text": [
      "area is 42 and perimeter is 26\n"
     ]
    }
   ],
   "source": [
    "# wap which will take the length and breadth as a input and calculate their area and parameter\n",
    "l=eval(input(\"Enter the length\"))\n",
    "w=eval(input(\"Enter the width\"))\n",
    "a=l*w\n",
    "p=2*(l+w)\n",
    "print(\"area is\",a,\"and perimeter is\",p)"
   ]
  },
  {
   "cell_type": "code",
   "execution_count": null,
   "id": "f9726dc1",
   "metadata": {},
   "outputs": [
    {
     "name": "stdout",
     "output_type": "stream",
     "text": [
      "Area of triangle is 15.0\n"
     ]
    }
   ],
   "source": [
    "b=eval(input(\"Enter the base\"))\n",
    "h=eval(input(\"Enter the height\"))\n",
    "a=1/2*b*h\n",
    "print(\"Area of triangle is\",a)"
   ]
  },
  {
   "cell_type": "code",
   "execution_count": 7,
   "id": "c8496493",
   "metadata": {},
   "outputs": [
    {
     "name": "stdout",
     "output_type": "stream",
     "text": [
      "can vote\n"
     ]
    }
   ],
   "source": [
    "#wap which will take age as a input from the user and print if the user can vote or not\n",
    "age=int(input(\"Enter your age\"))\n",
    "if age>=18:\n",
    "    print(\"can vote\")\n",
    "else:\n",
    "    print(\"can't vote\")    "
   ]
  },
  {
   "cell_type": "code",
   "execution_count": null,
   "id": "a908a340",
   "metadata": {},
   "outputs": [
    {
     "name": "stdout",
     "output_type": "stream",
     "text": [
      "number is zero\n"
     ]
    }
   ],
   "source": [
    "#wap which will take the number from the user and print and check weather the no. is + or -\n",
    "a=eval(input(\"Enter the number\"))\n",
    "if a>0:\n",
    "    print(\"positive\")\n",
    "elif a<0:\n",
    "    print(\"negative\")\n",
    "else:\n",
    "    print(\"zero\")"
   ]
  },
  {
   "cell_type": "code",
   "execution_count": 14,
   "id": "47b74177",
   "metadata": {},
   "outputs": [
    {
     "name": "stdout",
     "output_type": "stream",
     "text": [
      "child\n"
     ]
    }
   ],
   "source": [
    "age=eval(input(\"Enter your age\"))\n",
    "if age<=12:\n",
    "    print(\"child\")\n",
    "elif age<=19:\n",
    "    print(\"teenage\")\n",
    "elif age<=45:\n",
    "    print(\"adult\")\n",
    "else:\n",
    "    print(\"senior\")   "
   ]
  },
  {
   "cell_type": "code",
   "execution_count": 1,
   "id": "a6b4e2e6",
   "metadata": {},
   "outputs": [
    {
     "name": "stdout",
     "output_type": "stream",
     "text": [
      "No. in ascending order: 5 8 9\n"
     ]
    }
   ],
   "source": [
    "#wap which will take 3 no. as an input from the user and print them into ascending order.\n",
    "a=eval(input(\"Enter 1st no.\"))\n",
    "b=eval(input(\"Enter 2st no.\"))\n",
    "c=eval(input(\"Enter 3st no.\"))\n",
    "if (a <= b) and (a <= c):\n",
    "    if (b <= c):\n",
    "        print(\"No. in ascending order:\", a, b, c)\n",
    "    else:\n",
    "        print(\"No. in ascending order:\", a, c, b)\n",
    "elif (b <= a) and (b <= c):\n",
    "    if (a <= c):\n",
    "        print(\"No. in ascending order:\", b, a, c)\n",
    "    else:\n",
    "        print(\"No. in ascending order:\", b, c, a)\n",
    "else:\n",
    "    if (a <= b):\n",
    "        print(\"No. in ascending order:\", c, a, b)\n",
    "    else:\n",
    "        print(\"No. in ascending order:\", c, b, a)"
   ]
  },
  {
   "cell_type": "code",
   "execution_count": null,
   "id": "0d6f8c32",
   "metadata": {},
   "outputs": [
    {
     "name": "stdout",
     "output_type": "stream",
     "text": [
      "not divisible\n"
     ]
    }
   ],
   "source": [
    "a=eval(input(\"Enter a number\"))\n",
    "if(a%3==0 and a%5==0):\n",
    "    print(\"Fizzbuzz\")\n",
    "elif(a%3==0):\n",
    "    print(\"Fizz\")\n",
    "elif(a%5==0):\n",
    "    print(\"Buzz\")\n",
    "else:\n",
    "    print(\"not divisible\")"
   ]
  },
  {
   "cell_type": "code",
   "execution_count": null,
   "id": "2d63528e",
   "metadata": {},
   "outputs": [
    {
     "name": "stdout",
     "output_type": "stream",
     "text": [
      "scalene\n"
     ]
    }
   ],
   "source": [
    "#wap which will take length of 3 side of a triangle and check weather the triangle is isosceles,equilateral, scalene.\n",
    "a=eval(input(\"Enter 1st side\"))\n",
    "b=eval(input(\"Enter 2st side\"))\n",
    "c=eval(input(\"Enter 3st side\"))\n",
    "if a==b and a==c:\n",
    "    print(\"equilateral\")\n",
    "elif a==b or b==c or c==a:\n",
    "    print(\"isosceles\")\n",
    "else:\n",
    "    print(\"scalene\")"
   ]
  },
  {
   "cell_type": "code",
   "execution_count": 11,
   "id": "d50446d0",
   "metadata": {},
   "outputs": [
    {
     "name": "stdout",
     "output_type": "stream",
     "text": [
      "valid trinagle\n"
     ]
    }
   ],
   "source": [
    "#wap which will take three side of triangle as a input and check if triangle is valid or not.\n",
    "a=eval(input(\"Enter 1st side\"))\n",
    "b=eval(input(\"Enter 2st side\"))\n",
    "c=eval(input(\"Enter 3st side\"))\n",
    "if a+b>c and b+c>a and a+c>b:\n",
    "    print(\"valid trinagle\")\n",
    "else:\n",
    "    print(\"invalid triangle\")"
   ]
  },
  {
   "cell_type": "code",
   "execution_count": null,
   "id": "0e7d4747",
   "metadata": {},
   "outputs": [
    {
     "name": "stdout",
     "output_type": "stream",
     "text": [
      "309.0\n"
     ]
    }
   ],
   "source": [
    "#electricity \n",
    "u=eval(input(\"Enter unit\"))\n",
    "if u<=50:\n",
    "    p=u*0.5\n",
    "elif u<=200:\n",
    "    p=50*0.5+(u-50)*0.75\n",
    "elif u<=450:\n",
    "    p=50*0.5+150*0.75+(u-200)*1.20\n",
    "else:\n",
    "    p=50*0.5+150*0.75+250*1.20+(u-450)*1.5\n",
    "fp=p+p*0.2\n",
    "print(fp)"
   ]
  },
  {
   "cell_type": "code",
   "execution_count": null,
   "id": "c5e0a9fe",
   "metadata": {},
   "outputs": [
    {
     "name": "stdout",
     "output_type": "stream",
     "text": [
      "810\n"
     ]
    }
   ],
   "source": [
    "#distance\n",
    "k=eval(input(\"Enter the distance\"))\n",
    "if k<=10:\n",
    "    b=k*11\n",
    "elif k<=90:\n",
    "    b=10*11+(k-10)*10\n",
    "else:\n",
    "    b=10*11+90*10+(k-100)*9\n",
    "print(b)"
   ]
  },
  {
   "cell_type": "code",
   "execution_count": 28,
   "id": "0948c9a3",
   "metadata": {},
   "outputs": [
    {
     "name": "stdout",
     "output_type": "stream",
     "text": [
      "1081\n"
     ]
    }
   ],
   "source": [
    "#wap which will print sum of all the odd numbers b/w 25 to 70.\n",
    "n=25\n",
    "sum=0\n",
    "while n<=69:\n",
    "    # print(n,end=\" \")\n",
    "    sum+=n\n",
    "    n+=2\n",
    "print(sum)\n",
    "   "
   ]
  },
  {
   "cell_type": "code",
   "execution_count": null,
   "id": "abdf6df5",
   "metadata": {},
   "outputs": [
    {
     "name": "stdout",
     "output_type": "stream",
     "text": [
      "1 3 5 7 9 11 13 15 17 19 "
     ]
    }
   ],
   "source": [
    "#odd number\n",
    "n=1\n",
    "while n<=19:\n",
    "    print(n,end=\" \")\n",
    "    n+=2"
   ]
  },
  {
   "cell_type": "code",
   "execution_count": 32,
   "id": "afab4b63",
   "metadata": {},
   "outputs": [
    {
     "name": "stdout",
     "output_type": "stream",
     "text": [
      "1 2 3 4 6 12 "
     ]
    }
   ],
   "source": [
    "#wap which will take a no. as an input from user and print factor of the no.\n",
    "a=eval(input(\"Enter a number\"))\n",
    "i=1\n",
    "while(i<=a):\n",
    "    if a%i==0:\n",
    "        print(i,end=\" \")\n",
    "    i+=1    "
   ]
  },
  {
   "cell_type": "code",
   "execution_count": 20,
   "id": "c91e6835",
   "metadata": {},
   "outputs": [
    {
     "name": "stdout",
     "output_type": "stream",
     "text": [
      "479001600\n"
     ]
    }
   ],
   "source": [
    "#factorial\n",
    "n=eval(input(\"Enter a number\"))\n",
    "i=1\n",
    "temp=1\n",
    "while i<=n:\n",
    "    temp*=i\n",
    "    i+=1\n",
    "print(temp)"
   ]
  },
  {
   "cell_type": "code",
   "execution_count": null,
   "id": "a6161e79",
   "metadata": {},
   "outputs": [
    {
     "name": "stdout",
     "output_type": "stream",
     "text": [
      "11\n"
     ]
    }
   ],
   "source": [
    "#sum the number\n",
    "n=int(input())\n",
    "temp=0\n",
    "while n!=0:\n",
    "    r=n%10\n",
    "    n//=10\n",
    "    temp+=r\n",
    "print(temp)"
   ]
  },
  {
   "cell_type": "code",
   "execution_count": 13,
   "id": "22d9ef69",
   "metadata": {},
   "outputs": [
    {
     "name": "stdout",
     "output_type": "stream",
     "text": [
      "432\n"
     ]
    }
   ],
   "source": [
    "#reverse number\n",
    "n=int(input())\n",
    "temp=0\n",
    "while n!=0:\n",
    "    r=n%10\n",
    "    n//=10\n",
    "    temp*=10\n",
    "    temp+=r\n",
    "print(temp)"
   ]
  },
  {
   "cell_type": "code",
   "execution_count": 3,
   "id": "0aa27c9c",
   "metadata": {},
   "outputs": [
    {
     "name": "stdout",
     "output_type": "stream",
     "text": [
      "not palindrome\n"
     ]
    }
   ],
   "source": [
    "#palindrome number\n",
    "n=eval(input(\"Enter the number\"))\n",
    "num=n\n",
    "temp=0\n",
    "while n!=0:\n",
    "    r=n%10\n",
    "    n//=10\n",
    "    temp*=10\n",
    "    temp+=r\n",
    "if temp==num:\n",
    "    print(\"palindrome\")\n",
    "else:\n",
    "    print(\"not palindrome\")\n",
    "        "
   ]
  },
  {
   "cell_type": "code",
   "execution_count": 13,
   "id": "153fcf2b",
   "metadata": {},
   "outputs": [
    {
     "name": "stdout",
     "output_type": "stream",
     "text": [
      "Narcissistic Number\n"
     ]
    }
   ],
   "source": [
    "#narcissistic number\n",
    "n=eval(input(\"Enter a number\"))\n",
    "num=n\n",
    "count=0\n",
    "while num!=0:\n",
    "    num//=10\n",
    "    count+=1\n",
    "num = n\n",
    "sum=0\n",
    "while num!=0:\n",
    "    d=num%10\n",
    "    sum+=d**count\n",
    "    num//=10\n",
    "if sum == n:\n",
    "    print(\"Narcissistic Number\")\n",
    "else:\n",
    "    print(\"Not a Narcissistic Number\")"
   ]
  },
  {
   "cell_type": "code",
   "execution_count": 11,
   "id": "476da0a5",
   "metadata": {},
   "outputs": [
    {
     "name": "stdout",
     "output_type": "stream",
     "text": [
      "4 3\n"
     ]
    }
   ],
   "source": [
    "#wap a program to check the count of even and odd number \n",
    "n=int(input(\"Enter the number\"))\n",
    "ev=0\n",
    "od=0\n",
    "while n!=0:\n",
    "    r=n%10\n",
    "    if r%2==0:\n",
    "        ev+=1\n",
    "    else:\n",
    "        od+=1\n",
    "    n//=10\n",
    "print(ev,od)\n",
    "   "
   ]
  },
  {
   "cell_type": "code",
   "execution_count": 20,
   "id": "90dfa0c7",
   "metadata": {},
   "outputs": [
    {
     "name": "stdout",
     "output_type": "stream",
     "text": [
      "prime\n"
     ]
    }
   ],
   "source": [
    "#wap which will take  a no. from user and check weather given no. is prime or not.\n",
    "a=eval(input(\"Enter a number\"))\n",
    "fact=0\n",
    "i=1\n",
    "while i<=a:\n",
    "    if a%i==0:\n",
    "        fact+=1\n",
    "    i+=1\n",
    "if fact==2:\n",
    "    print(\"prime\")\n",
    "else:\n",
    "    print(\"not prime\")                "
   ]
  },
  {
   "cell_type": "code",
   "execution_count": null,
   "id": "77a77e0f",
   "metadata": {},
   "outputs": [
    {
     "name": "stdout",
     "output_type": "stream",
     "text": [
      "prime\n"
     ]
    }
   ],
   "source": [
    "#prime or not \n",
    "a=eval(input(\"Enter a number\"))\n",
    "i=2\n",
    "while i<a:\n",
    "    if a%i==0:\n",
    "        print(\"not prime\")\n",
    "        break\n",
    "    i+=1\n",
    "else:\n",
    "    print(\"prime\")"
   ]
  },
  {
   "cell_type": "code",
   "execution_count": 26,
   "id": "2b97db4d",
   "metadata": {},
   "outputs": [
    {
     "name": "stdout",
     "output_type": "stream",
     "text": [
      "LCM is  8\n"
     ]
    }
   ],
   "source": [
    "#wap which will take two no. as an input form user and find the LCM of two no.\n",
    "n1=int(input(\"enter 1st number\"))\n",
    "n2=int(input(\"enter 2nd number\"))\n",
    "i=n1\n",
    "while i<=n1*n2:\n",
    "    if i%n1==0 and i%n2==0:\n",
    "        print(\"LCM is \",i)\n",
    "        break\n",
    "    i+=1"
   ]
  },
  {
   "cell_type": "code",
   "execution_count": 33,
   "id": "758a0fa6",
   "metadata": {},
   "outputs": [
    {
     "name": "stdout",
     "output_type": "stream",
     "text": [
      "HCF is  1\n"
     ]
    }
   ],
   "source": [
    "#HCF\n",
    "n1=int(input(\"enter 1st number\"))\n",
    "n2=int(input(\"enter 2nd number\"))\n",
    "i=n1\n",
    "while i>=1:\n",
    "    if n1%i==0 and n2%i==0:\n",
    "        print(\"HCF is \",i)\n",
    "        break\n",
    "    i-=1"
   ]
  },
  {
   "cell_type": "code",
   "execution_count": null,
   "id": "1995b626",
   "metadata": {},
   "outputs": [
    {
     "name": "stdout",
     "output_type": "stream",
     "text": [
      "1 3 5 7 9 11 13 15 17 19 "
     ]
    }
   ],
   "source": [
    "#odd number\n",
    "for i in range(1,21,2):\n",
    "    print(i,end=\" \")"
   ]
  },
  {
   "cell_type": "code",
   "execution_count": null,
   "id": "f81ef253",
   "metadata": {},
   "outputs": [
    {
     "name": "stdout",
     "output_type": "stream",
     "text": [
      "sum of even no: 110\n",
      "sum of even no: 100\n"
     ]
    }
   ],
   "source": [
    "#sum of odd and even\n",
    "osum=0\n",
    "esum=0\n",
    "for i in range(1,21,1):\n",
    "    if i%2==0:\n",
    "        esum+=i\n",
    "    else:\n",
    "        osum+=i\n",
    "print(\"sum of even no:\",esum)\n",
    "print(\"sum of even no:\",osum)\n"
   ]
  },
  {
   "cell_type": "code",
   "execution_count": 19,
   "id": "6fbb0448",
   "metadata": {},
   "outputs": [
    {
     "name": "stdout",
     "output_type": "stream",
     "text": [
      "1 2 3 4 6 12 "
     ]
    }
   ],
   "source": [
    "#factor\n",
    "a=eval(input(\"Enter the number\"))\n",
    "for i in range(1,a+1,1):\n",
    "    if a%i==0:\n",
    "        print(i,end=\" \")"
   ]
  },
  {
   "cell_type": "code",
   "execution_count": 25,
   "id": "753af424",
   "metadata": {},
   "outputs": [
    {
     "name": "stdout",
     "output_type": "stream",
     "text": [
      "24\n"
     ]
    }
   ],
   "source": [
    "#factorial\n",
    "n=eval(input(\"enter a number\"))\n",
    "temp=1\n",
    "for i in range(1,n+1,1):\n",
    "    temp*=i\n",
    "print(temp)\n"
   ]
  },
  {
   "cell_type": "code",
   "execution_count": 5,
   "id": "131a93a8",
   "metadata": {},
   "outputs": [
    {
     "name": "stdout",
     "output_type": "stream",
     "text": [
      "LCM is  30\n"
     ]
    }
   ],
   "source": [
    "#LCM\n",
    "n1=eval(input(\"enter the 1st number\"))\n",
    "n2=eval(input(\"enter the 2nd number\"))\n",
    "for i in range(n1,n1*n2+1,1):\n",
    "    if i%n1==0 and i%n2==0:\n",
    "        print(\"LCM is \",i)\n",
    "        break\n",
    "        "
   ]
  },
  {
   "cell_type": "code",
   "execution_count": 7,
   "id": "4bcbad95",
   "metadata": {},
   "outputs": [
    {
     "name": "stdout",
     "output_type": "stream",
     "text": [
      "HCF is  1\n"
     ]
    }
   ],
   "source": [
    "#HCF\n",
    "n1=int(input(\"enter 1st number\"))\n",
    "n2=int(input(\"enter 2nd number\"))\n",
    "for i in range(n1*n2,0,-1):\n",
    "    if n1%i==0 and n2%i==0:\n",
    "        print(\"HCF is \",i)\n",
    "        break\n"
   ]
  },
  {
   "cell_type": "code",
   "execution_count": 14,
   "id": "ed0e448b",
   "metadata": {},
   "outputs": [
    {
     "name": "stdout",
     "output_type": "stream",
     "text": [
      "765\n"
     ]
    }
   ],
   "source": [
    "#wap which will add all the number in b/w 10 to 55 but it will skip all those number which is divisible by 3 and 5\n",
    "sum=0\n",
    "for i in range(10,56,1):\n",
    "    if(i%3==0 or i%5==0):\n",
    "        continue\n",
    "    else:\n",
    "      sum+=i\n",
    "print(sum)"
   ]
  },
  {
   "cell_type": "code",
   "execution_count": null,
   "id": "381e06b9",
   "metadata": {},
   "outputs": [
    {
     "name": "stdout",
     "output_type": "stream",
     "text": [
      "8 1\n"
     ]
    }
   ],
   "source": [
    "#wap which will print multiplication of all even and odd factor of given no. \n",
    "a=eval(input(\"Enter a number\"))\n",
    "oddf=evenf=1\n",
    "for i in range(1,a+1):\n",
    "    if a%i==0:\n",
    "        if i%2==0:\n",
    "            evenf*=i\n",
    "        else: \n",
    "            oddf*=i\n",
    "print(evenf,oddf)"
   ]
  }
 ],
 "metadata": {
  "kernelspec": {
   "display_name": "Python 3",
   "language": "python",
   "name": "python3"
  },
  "language_info": {
   "codemirror_mode": {
    "name": "ipython",
    "version": 3
   },
   "file_extension": ".py",
   "mimetype": "text/x-python",
   "name": "python",
   "nbconvert_exporter": "python",
   "pygments_lexer": "ipython3",
   "version": "3.12.6"
  }
 },
 "nbformat": 4,
 "nbformat_minor": 5
}
