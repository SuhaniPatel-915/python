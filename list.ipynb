{
 "cells": [
  {
   "cell_type": "code",
   "execution_count": 6,
   "id": "8b9b1535",
   "metadata": {},
   "outputs": [
    {
     "name": "stdout",
     "output_type": "stream",
     "text": [
      "[10, 20, 30, 40, 50, 60, 70, 80, 34, 56, 98, 12]\n",
      "[10, 20, 30, 40]\n",
      "[20, 40, 60, 80]\n",
      "[12, 98, 56, 34, 80, 70, 60, 50, 40, 30, 20, 10]\n",
      "[10, 40]\n",
      "[60, 34, 12]\n",
      "[10, 60, 98]\n",
      "[12, 34, 60]\n",
      "[]\n",
      "[]\n"
     ]
    }
   ],
   "source": [
    "number=[10,20,30,40,50,60,70,80,34,56,98,12]\n",
    "print(number[:])\n",
    "print(number[0:4])\n",
    "print(number[1:8:2])\n",
    "print(number[::-1])\n",
    "print(number[:5:3])\n",
    "print(number[5::3])\n",
    "print(number[::5])\n",
    "print(number[:3:-3])\n",
    "print(number[1:9:-2])\n",
    "print(number[9:1:3])"
   ]
  },
  {
   "cell_type": "code",
   "execution_count": 7,
   "id": "cdec7545",
   "metadata": {},
   "outputs": [
    {
     "name": "stdout",
     "output_type": "stream",
     "text": [
      "['apple', 'banana', 'cherry', 'kiwi', 'gauva']\n"
     ]
    }
   ],
   "source": [
    "fruits=[\"apple\",\"banana\",\"cherry\",\"kiwi\",\"gauva\"]\n",
    "print(fruits)"
   ]
  },
  {
   "cell_type": "code",
   "execution_count": 8,
   "id": "8e0dc655",
   "metadata": {},
   "outputs": [
    {
     "name": "stdout",
     "output_type": "stream",
     "text": [
      "['apple', 'banana', 'cherry', 'watermelon', 'gauva']\n"
     ]
    }
   ],
   "source": [
    "fruits[3]='watermelon'\n",
    "print(fruits)"
   ]
  },
  {
   "cell_type": "code",
   "execution_count": null,
   "id": "122d9110",
   "metadata": {},
   "outputs": [
    {
     "name": "stdout",
     "output_type": "stream",
     "text": [
      "['watermelon', 'apple', 'banana', 'cherry', 'watermelon', 'gauva']\n"
     ]
    }
   ],
   "source": [
    "fruits.insert(-13,\"watermelon\")\n",
    "print(fruits)"
   ]
  },
  {
   "cell_type": "code",
   "execution_count": 10,
   "id": "ceef1494",
   "metadata": {},
   "outputs": [
    {
     "name": "stdout",
     "output_type": "stream",
     "text": [
      "[4, 5, 6, [1, 2, 3, 5, 9]]\n",
      "[1, 2, 3, 5, 9]\n"
     ]
    }
   ],
   "source": [
    "list1=[1,2,3,5,9]\n",
    "list2=[4,5,6]\n",
    "#list1extend(5) iterable:any iterable(list,tuple,set)\n",
    "list2.append(list1)\n",
    "print(list2)\n",
    "print(list1)"
   ]
  },
  {
   "cell_type": "code",
   "execution_count": 11,
   "id": "080e386d",
   "metadata": {},
   "outputs": [
    {
     "name": "stdout",
     "output_type": "stream",
     "text": [
      "[4, 5, 6, [1, 2, [3, 5], 9]]\n",
      "[1, 2, [3, 5], 9]\n"
     ]
    }
   ],
   "source": [
    "list1=[1,2,[3,5],9]\n",
    "list2=[4,5,6]\n",
    "#list1extend(5) iterable:any iterable(list,tuple,set)\n",
    "list2.append(list1)\n",
    "print(list2)\n",
    "print(list1)"
   ]
  },
  {
   "cell_type": "code",
   "execution_count": 12,
   "id": "645a1615",
   "metadata": {},
   "outputs": [
    {
     "name": "stdout",
     "output_type": "stream",
     "text": [
      "2 3 4 5 6 7 8 9 "
     ]
    }
   ],
   "source": [
    "lst=[2,3,4,5,6,7,8,9]\n",
    "for i in range(len(lst)):\n",
    "    print(lst[i],end=\" \")"
   ]
  },
  {
   "cell_type": "code",
   "execution_count": 13,
   "id": "4f8458e1",
   "metadata": {},
   "outputs": [
    {
     "name": "stdout",
     "output_type": "stream",
     "text": [
      "4 4\n"
     ]
    }
   ],
   "source": [
    "#wap which will print count of even and odd in a given list\n",
    "lst=[2,3,4,5,6,7,8,9]\n",
    "ev=od=0\n",
    "for i in range(len(lst)):\n",
    "    if lst[i]%2==0:\n",
    "        ev+=1\n",
    "    else:\n",
    "        od+=1\n",
    "print(ev,od)\n",
    " "
   ]
  },
  {
   "cell_type": "code",
   "execution_count": null,
   "id": "e20d237f",
   "metadata": {},
   "outputs": [
    {
     "name": "stdout",
     "output_type": "stream",
     "text": [
      "[2, 3, 4, 5, 7, 8, 9]\n"
     ]
    }
   ],
   "source": [
    "#delete the element from the list\n",
    "lst=[2,3,4,5,6,7,8,9]\n",
    "del lst[4]\n",
    "print(lst)"
   ]
  },
  {
   "cell_type": "code",
   "execution_count": null,
   "id": "76540610",
   "metadata": {},
   "outputs": [],
   "source": [
    "#delete the whole list\n",
    "lst=[2,3,4,5,6,7,8,9]\n",
    "del lst"
   ]
  },
  {
   "cell_type": "code",
   "execution_count": null,
   "id": "3f1dc55f",
   "metadata": {},
   "outputs": [
    {
     "name": "stdout",
     "output_type": "stream",
     "text": [
      "[2, 3, 4, 7, 8]\n",
      "6\n"
     ]
    }
   ],
   "source": [
    "lst = [2,3,4,6,7,8]\n",
    "#we can delete element using pop works on index\n",
    "a=lst.pop(3)\n",
    "print(lst)\n",
    "print(a)"
   ]
  },
  {
   "cell_type": "code",
   "execution_count": null,
   "id": "7862d47d",
   "metadata": {},
   "outputs": [
    {
     "name": "stdout",
     "output_type": "stream",
     "text": [
      "[1, 3, 4, 5, 6, 78, 8, 56, 1, 2, 3]\n",
      "[3, 4, 5, 6, 78, 8, 56, 1, 2, 3]\n"
     ]
    }
   ],
   "source": [
    "#remove the first occurence of given and item from the list (element comes first is deleted) works on element\n",
    "lst=[1,3,4,5,6,78,8,56,1,2,3]\n",
    "print(lst)\n",
    "lst.remove(1)\n",
    "print(lst)"
   ]
  },
  {
   "cell_type": "code",
   "execution_count": 6,
   "id": "14306afc",
   "metadata": {},
   "outputs": [
    {
     "name": "stdout",
     "output_type": "stream",
     "text": [
      "[10, 7, [1, 1], 1, 19]\n",
      "[10, 7, [1, 1], 19]\n"
     ]
    }
   ],
   "source": [
    "lst=[10,7,[1,1],1,19]\n",
    "print(lst)\n",
    "lst.remove(1)\n",
    "print(lst)"
   ]
  },
  {
   "cell_type": "code",
   "execution_count": 7,
   "id": "7aa0be85",
   "metadata": {},
   "outputs": [
    {
     "name": "stdout",
     "output_type": "stream",
     "text": [
      "4\n"
     ]
    }
   ],
   "source": [
    "#the count method in a list is used to count the number to the element present in list\n",
    "number=[1,2,2,3,4,4,4,4,5]\n",
    "print(number.count(4))"
   ]
  },
  {
   "cell_type": "code",
   "execution_count": 9,
   "id": "fe9b3fd4",
   "metadata": {},
   "outputs": [
    {
     "name": "stdout",
     "output_type": "stream",
     "text": [
      "[5, 4, 4, 4, 4, 3, 2, 2, 1]\n"
     ]
    }
   ],
   "source": [
    "#reverse is reverses the entire list\n",
    "numbers=[1,2,2,3,4,4,4,4,5]\n",
    "number.reverse()\n",
    "print(number)"
   ]
  },
  {
   "cell_type": "code",
   "execution_count": 8,
   "id": "5a71956c",
   "metadata": {},
   "outputs": [
    {
     "data": {
      "text/plain": [
       "0"
      ]
     },
     "execution_count": 8,
     "metadata": {},
     "output_type": "execute_result"
    }
   ],
   "source": [
    "# to check the element is present at which index\n",
    "lst=[2,5,\"apply\",2]\n",
    "lst.index(2)"
   ]
  },
  {
   "cell_type": "code",
   "execution_count": 10,
   "id": "9ceec2dd",
   "metadata": {},
   "outputs": [
    {
     "name": "stdout",
     "output_type": "stream",
     "text": [
      "[3, 2, 5, 4, 7, 6, 9, 8]\n"
     ]
    }
   ],
   "source": [
    "#swap the element \n",
    "lst=[2,3,4,5,6,7,8,9]\n",
    "for i in range(0,len(lst)-1,2):\n",
    "    lst[i],lst[i+1]=lst[i+1],lst[i]\n",
    "print(lst)"
   ]
  },
  {
   "cell_type": "code",
   "execution_count": 12,
   "id": "5532136e",
   "metadata": {},
   "outputs": [
    {
     "name": "stdout",
     "output_type": "stream",
     "text": [
      "86\n"
     ]
    }
   ],
   "source": [
    "#wap which will print the largest element of the list\n",
    "lst=[2,4,5,6,7,86,67,9,34,56]\n",
    "temp=lst[0]\n",
    "for i in range(len(lst)):\n",
    "    if lst[i]>temp:\n",
    "        temp=lst[i]\n",
    "print(temp)"
   ]
  },
  {
   "cell_type": "code",
   "execution_count": 14,
   "id": "78bd7aaa",
   "metadata": {},
   "outputs": [
    {
     "name": "stdout",
     "output_type": "stream",
     "text": [
      "[11, 9, 10, 12, 6, 15, 10, 20, 2, 3, 25]\n",
      "[25, 20, 15, 12, 11]\n"
     ]
    }
   ],
   "source": [
    "#wap which will print the 2 largest element of the list\n",
    "lst=[25,3,2,20,10,15,6,12,10,9,11]\n",
    "lst.reverse()\n",
    "print(lst)\n",
    "lst1=[lst[0]]\n",
    "temp=lst[0]\n",
    "for i in lst:\n",
    "    if i>temp:\n",
    "        temp=i\n",
    "        lst1.append(i)\n",
    "lst1.reverse()\n",
    "print(lst1)"
   ]
  },
  {
   "cell_type": "code",
   "execution_count": null,
   "id": "417212f4",
   "metadata": {},
   "outputs": [
    {
     "name": "stdout",
     "output_type": "stream",
     "text": [
      "[25, 3, 2, 20, 10, 15, 6, 12, 10, 9, 11]\n",
      "[625, 9, 4, 400, 100, 225, 36, 144, 100, 81, 121]\n"
     ]
    }
   ],
   "source": [
    "#sqaure using append\n",
    "lst=[25,3,2,20,10,15,6,12,10,9,11]\n",
    "print(lst)\n",
    "lst1=[]\n",
    "for i in lst:\n",
    "    lst1.append(i**2)\n",
    "print(lst1)\n",
    "    "
   ]
  },
  {
   "cell_type": "code",
   "execution_count": null,
   "id": "2faa8789",
   "metadata": {},
   "outputs": [
    {
     "name": "stdout",
     "output_type": "stream",
     "text": [
      "[625, 9, 4, 400, 100, 225, 36, 144, 100, 81, 121]\n"
     ]
    }
   ],
   "source": [
    "#sqaure of each element\n",
    "lst=[25,3,2,20,10,15,6,12,10,9,11]\n",
    "lst1=[i**2 for i in lst]\n",
    "print(lst1)"
   ]
  },
  {
   "cell_type": "code",
   "execution_count": null,
   "id": "e638be38",
   "metadata": {},
   "outputs": [
    {
     "name": "stdout",
     "output_type": "stream",
     "text": [
      "[2, 6, 6, 3, 6, 7, 9] [-3, -4, -7, -9]\n"
     ]
    }
   ],
   "source": [
    "#postive and negative list \n",
    "lst=[2,-3,-4,6,-7,-9,6,3,6,7,9]\n",
    "lst1=[i for i in lst if i>0]\n",
    "lst2=[i for i in lst if i<0]\n",
    "print(lst1,lst2)"
   ]
  },
  {
   "cell_type": "code",
   "execution_count": null,
   "id": "ba26d8bc",
   "metadata": {},
   "outputs": [
    {
     "name": "stdout",
     "output_type": "stream",
     "text": [
      "['even', 'odd', 'even', 'odd', 'even', 'odd', 'even', 'odd']\n"
     ]
    }
   ],
   "source": [
    "#print even in place of even no and odd in place of odd number in the list\n",
    "lst=[2,3,4,5,6,7,8,9]\n",
    "lst1=[\"even\" if i%2==0 else \"odd\" for i in lst]\n",
    "print(lst1)"
   ]
  },
  {
   "cell_type": "code",
   "execution_count": null,
   "id": "0b2ddbe0",
   "metadata": {},
   "outputs": [
    {
     "name": "stdout",
     "output_type": "stream",
     "text": [
      "9\n",
      "2\n",
      "44\n"
     ]
    }
   ],
   "source": [
    "#max min sum using max min sum function\n",
    "lst=[2,3,4,5,6,7,8,9]\n",
    "print(max(lst))\n",
    "print(min(lst))\n",
    "print(sum(lst))"
   ]
  },
  {
   "cell_type": "code",
   "execution_count": null,
   "id": "b1bfcf85",
   "metadata": {},
   "outputs": [
    {
     "name": "stdout",
     "output_type": "stream",
     "text": [
      "[9, 9, 8, 8]\n"
     ]
    }
   ],
   "source": [
    "#find max in a list of list\n",
    "lst=[[3,5,7,9],[8,2,5,9],[7,3,5,8],[8,3,2]]\n",
    "lst1=[max(i) for i in lst]\n",
    "print(lst1)"
   ]
  },
  {
   "cell_type": "code",
   "execution_count": 23,
   "id": "61e05ec3",
   "metadata": {},
   "outputs": [
    {
     "name": "stdout",
     "output_type": "stream",
     "text": [
      "[24, 14, 15, 3]\n"
     ]
    }
   ],
   "source": [
    "lst=[[3,5,7,9],[8,2,5,9],[7,3,5,8],[8,3,2]]\n",
    "lst1=[]\n",
    "for i in lst:\n",
    "    temp=0\n",
    "    for j in i:\n",
    "        if j%2!=0:\n",
    "            temp+=j\n",
    "    lst1.append(temp)\n",
    "print(lst1)"
   ]
  },
  {
   "cell_type": "code",
   "execution_count": 1,
   "id": "7ae41907",
   "metadata": {},
   "outputs": [
    {
     "name": "stdout",
     "output_type": "stream",
     "text": [
      "() () (1, 2, 3, 'hello')\n"
     ]
    }
   ],
   "source": [
    "#tuple\n",
    "tp1=()\n",
    "tp2=tuple()\n",
    "tp3=(1,2,3,\"hello\")\n",
    "print(tp1,tp2,tp3)"
   ]
  },
  {
   "cell_type": "code",
   "execution_count": null,
   "id": "4356d7b7",
   "metadata": {},
   "outputs": [
    {
     "data": {
      "text/plain": [
       "tuple"
      ]
     },
     "execution_count": 3,
     "metadata": {},
     "output_type": "execute_result"
    }
   ],
   "source": [
    "#type\n",
    "tp1=(5,)\n",
    "type(tp1)"
   ]
  },
  {
   "cell_type": "code",
   "execution_count": 5,
   "id": "97c6cfff",
   "metadata": {},
   "outputs": [
    {
     "data": {
      "text/plain": [
       "2"
      ]
     },
     "execution_count": 5,
     "metadata": {},
     "output_type": "execute_result"
    }
   ],
   "source": [
    "#count\n",
    "tpl=(1,2,3,4,5,6,7,8,9,6)\n",
    "tpl.count(6)"
   ]
  },
  {
   "cell_type": "code",
   "execution_count": null,
   "id": "5f432048",
   "metadata": {},
   "outputs": [
    {
     "name": "stdout",
     "output_type": "stream",
     "text": [
      "3\n"
     ]
    }
   ],
   "source": [
    "#index\n",
    "tpl=(1,2,3,4,5,6,7,8,9,6)\n",
    "#tpl.count(6)\n",
    "print(tpl.index(4))\n"
   ]
  },
  {
   "cell_type": "code",
   "execution_count": 8,
   "id": "ea47f8d9",
   "metadata": {},
   "outputs": [
    {
     "name": "stdout",
     "output_type": "stream",
     "text": [
      "1776041392336\n",
      "1776033671072\n",
      "(2, 3, 4, 5, 7, 8)\n"
     ]
    }
   ],
   "source": [
    "tpl=(2,3,4,5)\n",
    "print(id(tpl))\n",
    "tpl+=(7,8)\n",
    "print(id(tpl))\n",
    "print(tpl)"
   ]
  },
  {
   "cell_type": "code",
   "execution_count": null,
   "id": "a9dd4e92",
   "metadata": {},
   "outputs": [
    {
     "name": "stdout",
     "output_type": "stream",
     "text": [
      "(2, 4, 6, 8)\n"
     ]
    }
   ],
   "source": [
    "x=(2,3,4,5,6,7,8,9)\n",
    "#x=list(x)  tuple to list conversion\n",
    "lst=[i for i in x if i%2==0]\n",
    "x=tuple(lst)\n",
    "print(x)"
   ]
  },
  {
   "cell_type": "code",
   "execution_count": 11,
   "id": "cdadb3ff",
   "metadata": {},
   "outputs": [
    {
     "name": "stdout",
     "output_type": "stream",
     "text": [
      "nt a t\n",
      "e h\n",
      "n python\n",
      "L'lrph\n",
      "hn\n",
      "on\n"
     ]
    }
   ],
   "source": [
    "#string\n",
    "x=\"Let's learn python\"\n",
    "print(x[::-3])\n",
    "print(x[7::4])\n",
    "print(x[10::])\n",
    "print(x[::3])\n",
    "print(x[-3:-10:-5])\n",
    "print(x[-2:])"
   ]
  },
  {
   "cell_type": "code",
   "execution_count": 14,
   "id": "a92624fc",
   "metadata": {},
   "outputs": [
    {
     "name": "stdout",
     "output_type": "stream",
     "text": [
      "['h', 'e', 'l', 'l', 'o', ' ', 'e', 'v', 'e', 'r', 'y', 'o', 'n', 'e']\n"
     ]
    }
   ],
   "source": [
    "str1='hello everyone'\n",
    "x=list(str1)\n",
    "print(x)\n"
   ]
  },
  {
   "cell_type": "code",
   "execution_count": null,
   "id": "7c983abb",
   "metadata": {},
   "outputs": [
    {
     "name": "stdout",
     "output_type": "stream",
     "text": [
      "['hello', 'everyone', 'lets', 'learn', 'python']\n"
     ]
    }
   ],
   "source": [
    "st=\"hello everyone lets learn python\"\n",
    "lst=st.split()\n",
    "print(lst)"
   ]
  },
  {
   "cell_type": "code",
   "execution_count": 24,
   "id": "5421b47b",
   "metadata": {},
   "outputs": [
    {
     "name": "stdout",
     "output_type": "stream",
     "text": [
      "everyone 8\n"
     ]
    }
   ],
   "source": [
    "#wap which will take a string as a input and print longest word and its length\n",
    "st=str(input(\"Enter the string\"))\n",
    "st=st.split()\n",
    "temp=\"\"\n",
    "for i in st:\n",
    "    if len(i)>len(temp):\n",
    "        temp=i\n",
    "print(temp,len(temp))"
   ]
  },
  {
   "cell_type": "code",
   "execution_count": 25,
   "id": "fd1556ce",
   "metadata": {},
   "outputs": [
    {
     "name": "stdout",
     "output_type": "stream",
     "text": [
      "apple orange apple guava apple banana\n",
      "kiwi orange kiwi guava kiwi banana\n"
     ]
    }
   ],
   "source": [
    "#replace function\n",
    "x=\"apple orange apple guava apple banana\"\n",
    "y=x.replace(\"apple\",\"kiwi\")\n",
    "print(x)\n",
    "print(y)"
   ]
  },
  {
   "cell_type": "code",
   "execution_count": 39,
   "id": "c4eb139e",
   "metadata": {},
   "outputs": [
    {
     "name": "stdout",
     "output_type": "stream",
     "text": [
      "apple . orange , apple . guava , apple . banana\n"
     ]
    }
   ],
   "source": [
    "x=\"apple , orange . apple , guava . apple , banana\"\n",
    "x=x.replace(\".\",\"#\")\n",
    "x=x.replace(\",\",\".\")\n",
    "x=x.replace(\"#\",\",\")\n",
    "print(x)"
   ]
  },
  {
   "cell_type": "code",
   "execution_count": 42,
   "id": "42c8ef1a",
   "metadata": {},
   "outputs": [
    {
     "name": "stdout",
     "output_type": "stream",
     "text": [
      "not palindrome\n"
     ]
    }
   ],
   "source": [
    "x=str(input())\n",
    "if x==x[::-1]:\n",
    "    print(\"Palindrome\")\n",
    "else:\n",
    "    print(\"not palindrome\")"
   ]
  },
  {
   "cell_type": "code",
   "execution_count": 44,
   "id": "508677cf",
   "metadata": {},
   "outputs": [
    {
     "name": "stdout",
     "output_type": "stream",
     "text": [
      "<class 'set'>\n",
      "<class 'dict'>\n"
     ]
    }
   ],
   "source": [
    "#set\n",
    "st=set()#empty set\n",
    "st1={}\n",
    "print(type(st))\n",
    "print(type(st1))"
   ]
  },
  {
   "cell_type": "code",
   "execution_count": 45,
   "id": "b41c5dac",
   "metadata": {},
   "outputs": [
    {
     "name": "stdout",
     "output_type": "stream",
     "text": [
      "{1, 2, 3, 6, 'hello', 45}\n"
     ]
    }
   ],
   "source": [
    "st={1,2,3,45,6,6,\"hello\"}\n",
    "print(st)"
   ]
  },
  {
   "cell_type": "code",
   "execution_count": null,
   "id": "01abb0ab",
   "metadata": {},
   "outputs": [
    {
     "name": "stdout",
     "output_type": "stream",
     "text": [
      "{1, 2, 3, 4, 5}\n"
     ]
    }
   ],
   "source": [
    "#add the element in set\n",
    "st={1,2,4,3}\n",
    "st.add(5)\n",
    "print(st)"
   ]
  },
  {
   "cell_type": "code",
   "execution_count": null,
   "id": "10b19894",
   "metadata": {},
   "outputs": [
    {
     "name": "stdout",
     "output_type": "stream",
     "text": [
      "{1, 2, 3, 4, (2, 3, 4)}\n"
     ]
    }
   ],
   "source": [
    "st={1,2,4,3}\n",
    "st.add((2,3,4))#tuple add\n",
    "print(st)"
   ]
  },
  {
   "cell_type": "code",
   "execution_count": null,
   "id": "b1228745",
   "metadata": {},
   "outputs": [
    {
     "name": "stdout",
     "output_type": "stream",
     "text": [
      "{1, 2, 3, 4, 5, 45}\n"
     ]
    }
   ],
   "source": [
    "st={1,2,3}\n",
    "st.update([1,2,3,4,5],(1,2,3,45,5))#update add multiple element\n",
    "print(st)"
   ]
  },
  {
   "cell_type": "code",
   "execution_count": null,
   "id": "13fdf049",
   "metadata": {},
   "outputs": [
    {
     "name": "stdout",
     "output_type": "stream",
     "text": [
      "{1, 3, 4, 5, 45}\n"
     ]
    }
   ],
   "source": [
    "x={1, 2, 3, 4, 5, 45}\n",
    "x.remove(2)#if element is not present then it will show the error\n",
    "print(x)"
   ]
  },
  {
   "cell_type": "code",
   "execution_count": 53,
   "id": "d0b76b4a",
   "metadata": {},
   "outputs": [
    {
     "name": "stdout",
     "output_type": "stream",
     "text": [
      "{1, 2, 3, 4, 5, 45}\n"
     ]
    }
   ],
   "source": [
    "x={1, 2, 3, 4, 5, 45}\n",
    "x.discard(20)#if element is not present then it will not show the error\n",
    "print(x)"
   ]
  },
  {
   "cell_type": "code",
   "execution_count": null,
   "id": "55c2901e",
   "metadata": {},
   "outputs": [
    {
     "name": "stdout",
     "output_type": "stream",
     "text": [
      "set()\n"
     ]
    }
   ],
   "source": [
    "x={1, 2, 3, 4, 5, 45}\n",
    "x.clear()#return the empty set\n",
    "print(x)"
   ]
  },
  {
   "cell_type": "code",
   "execution_count": 56,
   "id": "ca44b230",
   "metadata": {},
   "outputs": [],
   "source": [
    "x={1, 2, 3, 4, 5, 45}\n",
    "del x #it will delete all the thing and nothing will print"
   ]
  },
  {
   "cell_type": "code",
   "execution_count": null,
   "id": "e2dfa150",
   "metadata": {},
   "outputs": [
    {
     "name": "stdout",
     "output_type": "stream",
     "text": [
      "['hello', 'how', 'are', 'you', ',', 'how', 'are', 'they']\n"
     ]
    }
   ],
   "source": [
    "x=str(input())\n",
    "x=x.split()\n",
    "print(x)\n",
    "temp=0\n",
    "if x==x[::-1]:\n",
    "    temp+=1\n",
    "    print(temp)"
   ]
  },
  {
   "cell_type": "code",
   "execution_count": 60,
   "id": "f00a2cab",
   "metadata": {},
   "outputs": [
    {
     "name": "stdout",
     "output_type": "stream",
     "text": [
      "6\n"
     ]
    }
   ],
   "source": [
    "x='hello how are you , how are they'\n",
    "print(len(set(x.split())))"
   ]
  },
  {
   "cell_type": "code",
   "execution_count": 65,
   "id": "49f3902c",
   "metadata": {},
   "outputs": [
    {
     "name": "stdout",
     "output_type": "stream",
     "text": [
      "hello how are you , they\n"
     ]
    }
   ],
   "source": [
    "x='hello how are you , how are they'\n",
    "lst=x.split()\n",
    "lst1=[]\n",
    "for i in lst:\n",
    "    if i not in lst1:\n",
    "        lst1.append(i)\n",
    "x=\" \".join(lst1)\n",
    "print(x)"
   ]
  },
  {
   "cell_type": "code",
   "execution_count": null,
   "id": "762a9f9e",
   "metadata": {},
   "outputs": [
    {
     "name": "stdout",
     "output_type": "stream",
     "text": [
      "frozenset({1, 2, 3, 4, 5, 6, 7})\n"
     ]
    }
   ],
   "source": [
    "#frozenSet it makes the set immutable\n",
    "s={1,2,3,4,5,6,7}\n",
    "s1=frozenset([1,2,3,4,5,6,7])\n",
    "print(s1)"
   ]
  },
  {
   "cell_type": "code",
   "execution_count": null,
   "id": "6f7ec0e2",
   "metadata": {},
   "outputs": [
    {
     "name": "stdout",
     "output_type": "stream",
     "text": [
      "{1, 2, 3, 4, 5, 6, 7, 8, 9}\n",
      "{1, 2, 3, 6}\n",
      "{8, 9, 7}\n",
      "{4, 5}\n",
      "{4, 5, 7, 8, 9}\n"
     ]
    }
   ],
   "source": [
    "#set operation\n",
    "s={1,2,3,4,5,6}\n",
    "s1={2,3,6,7,8,9,1}\n",
    "print(s|s1)#union\n",
    "print(s&s1)#intersection\n",
    "print(s1-s)#difference\n",
    "print(s-s1)\n",
    "print(s^s1)#symmetric difference"
   ]
  },
  {
   "cell_type": "code",
   "execution_count": 12,
   "id": "2535d279",
   "metadata": {},
   "outputs": [
    {
     "name": "stdout",
     "output_type": "stream",
     "text": [
      "{}\n",
      "{1: ['xyz']}\n",
      "{'name': 'satish', 1: ['abc', 'xyz']}\n"
     ]
    }
   ],
   "source": [
    "#empty dictionary\n",
    "my_dict={}\n",
    "print(my_dict)\n",
    "my_dict={1:\"abc\",1:['xyz']}\n",
    "print(my_dict)\n",
    "#dictionary with mixed keys\n",
    "my_dict={'name':'satish',1:['abc','xyz']}\n",
    "print(my_dict)"
   ]
  },
  {
   "cell_type": "code",
   "execution_count": 13,
   "id": "a57a55c7",
   "metadata": {},
   "outputs": [
    {
     "name": "stdout",
     "output_type": "stream",
     "text": [
      "{1: 'abc', 2: 'cde', 3: 'def'}\n",
      "{'a': 1, 'b': 2, 'c': 3}\n",
      "{'hii': 23, 56: 'bye', 'hello': 78}\n",
      "{'man': 90, 'women': 80}\n",
      "{50: 'mango', 80: 'orange'}\n",
      "{1: 'a', 2: 'b', 3: 'c'}\n",
      "{(5, 6, 7): 'a', 3: 'b'}\n"
     ]
    }
   ],
   "source": [
    "#Create dictionary\n",
    "\n",
    "# ->list of list\n",
    "d1=dict([[1,'abc'],[2,'cde'],[3,'def']])\n",
    "print(d1)\n",
    "\n",
    "# ->list of tuple\n",
    "d2=dict([('a',1),('b',2),('c',3)])\n",
    "print(d2)\n",
    "\n",
    "# ->list of set\n",
    "d3=dict([{'hii',23},{'bye',56},{'hello',78}])\n",
    "print(d3)\n",
    "\n",
    "# ->tuple of list\n",
    "d4=dict((['man',90],['women',80]))\n",
    "print(d4)\n",
    "\n",
    "# ->tuple of set\n",
    "d5=dict(({'mango',50},{'orange',80}))\n",
    "print(d5)\n",
    "\n",
    "# ->tuple of tuple\n",
    "d6=dict(((1,'a'),(2,'b'),(3,'c')))\n",
    "print(d6)\n",
    "\n",
    "# ->set of tuple \n",
    "d7=dict({((5,6,7),'a'),(3,'b')})\n",
    "print(d7)"
   ]
  },
  {
   "cell_type": "code",
   "execution_count": 19,
   "id": "ce304fd2",
   "metadata": {},
   "outputs": [
    {
     "data": {
      "text/plain": [
       "27"
      ]
     },
     "execution_count": 19,
     "metadata": {},
     "output_type": "execute_result"
    }
   ],
   "source": [
    "#dict access\n",
    "my_dict={'name':'satish','age':27,'address':'guntur'}\n",
    "my_dict['age']\n",
    "# my_dict['degree'] #if key is not present then it will show the error"
   ]
  },
  {
   "cell_type": "code",
   "execution_count": null,
   "id": "f25d2f1d",
   "metadata": {},
   "outputs": [
    {
     "name": "stdout",
     "output_type": "stream",
     "text": [
      "satish\n",
      "None\n"
     ]
    }
   ],
   "source": [
    "my_dict={'name':'satish','age':27,'address':'guntur'}\n",
    "print(my_dict.get('name'))\n",
    "print(my_dict.get('degree')) #if key is not present then it will show the none"
   ]
  },
  {
   "cell_type": "code",
   "execution_count": 23,
   "id": "68b1c807",
   "metadata": {},
   "outputs": [
    {
     "name": "stdout",
     "output_type": "stream",
     "text": [
      "{'name': 'Khushi', 'age': 27, 'address': 'guntur', 'degree': 'MTech'}\n"
     ]
    }
   ],
   "source": [
    "my_dict={'name':'satish','age':27,'address':'guntur'}\n",
    "my_dict['name']=\"Khushi\" #it update the value of the key\n",
    "my_dict['degree']=\"MTech\" # it will add the key and value in dictionary if it is not present\n",
    "print(my_dict)"
   ]
  },
  {
   "cell_type": "code",
   "execution_count": 26,
   "id": "bdd1dd3d",
   "metadata": {},
   "outputs": [
    {
     "name": "stdout",
     "output_type": "stream",
     "text": [
      "{3: 7, 8: 9, 12: 25, 13: 32}\n",
      "{3: 7, 8: 14, 12: 30, 13: 37}\n"
     ]
    }
   ],
   "source": [
    "x={3:7,8:9,12:25,13:32}\n",
    "print(x)\n",
    "x[8]+=5\n",
    "x[12]+=5\n",
    "x[13]+=5\n",
    "print(x)"
   ]
  },
  {
   "cell_type": "code",
   "execution_count": 28,
   "id": "a6f7b63d",
   "metadata": {},
   "outputs": [
    {
     "name": "stdout",
     "output_type": "stream",
     "text": [
      "{3: 4, 5: 3, 7: 2, 9: 2, 2: 1, 8: 1}\n"
     ]
    }
   ],
   "source": [
    "lst=[3,5,3,7,9,2,5,8,3,7,9,3,5]\n",
    "d={}\n",
    "for i in lst:\n",
    "    d[i]=lst.count(i)\n",
    "print(d)\n",
    " "
   ]
  },
  {
   "cell_type": "code",
   "execution_count": null,
   "id": "012c3173",
   "metadata": {},
   "outputs": [
    {
     "name": "stdout",
     "output_type": "stream",
     "text": [
      "Khushi\n",
      "{'age': 27, 'address': 'guntur', 'degree': 'MTech'}\n"
     ]
    }
   ],
   "source": [
    "d={'name': 'Khushi', 'age': 27, 'address': 'guntur', 'degree': 'MTech'}\n",
    "print(d.pop('name')) # delete the value \n",
    "print(d)"
   ]
  },
  {
   "cell_type": "code",
   "execution_count": null,
   "id": "9bea3d2a",
   "metadata": {},
   "outputs": [
    {
     "name": "stdout",
     "output_type": "stream",
     "text": [
      "('degree', 'MTech')\n",
      "{'name': 'Khushi', 'age': 27, 'address': 'guntur'}\n",
      "{'age': 27, 'address': 'guntur'}\n",
      "{}\n"
     ]
    }
   ],
   "source": [
    "d={'name': 'Khushi', 'age': 27, 'address': 'guntur', 'degree': 'MTech'}\n",
    "print(d.popitem()) #delete the last item from dictionary\n",
    "print(d)\n",
    "del d['name'] #delete the element\n",
    "print(d)\n",
    "# del d\n",
    "# print(d) #delete whole dictionary\n",
    "d.clear() #delete whole dictionary and give empty dictionary\n",
    "print(d)"
   ]
  },
  {
   "cell_type": "code",
   "execution_count": null,
   "id": "ee10a850",
   "metadata": {},
   "outputs": [
    {
     "name": "stdout",
     "output_type": "stream",
     "text": [
      "[3, 4, 5, 14, 7]\n",
      "[3, 4, 5, 14, 7]\n"
     ]
    }
   ],
   "source": [
    "#shallo copy\n",
    "x=[3,4,5,6,7]\n",
    "y=x\n",
    "x[3]=15\n",
    "y[3]=14\n",
    "print(x)\n",
    "print(y)"
   ]
  },
  {
   "cell_type": "code",
   "execution_count": null,
   "id": "18a48866",
   "metadata": {},
   "outputs": [
    {
     "name": "stdout",
     "output_type": "stream",
     "text": [
      "[3, 4, 5, 15, 7]\n",
      "[3, 4, 5, 14, 7]\n"
     ]
    }
   ],
   "source": [
    "#copy method\n",
    "x=[3,4,5,6,7]\n",
    "y=x.copy()\n",
    "x[3]=15\n",
    "y[3]=14\n",
    "print(x)\n",
    "print(y)"
   ]
  },
  {
   "cell_type": "code",
   "execution_count": null,
   "id": "c3656012",
   "metadata": {},
   "outputs": [
    {
     "name": "stdout",
     "output_type": "stream",
     "text": [
      "dict_keys([2, 3, 4, 5])\n",
      "dict_values([4, 9, 16, 25])\n",
      "dict_items([(2, 4), (3, 9), (4, 16), (5, 25)])\n"
     ]
    }
   ],
   "source": [
    "#keys,values,items\n",
    "subjects={2:4,3:9,4:16,5:25}\n",
    "print(subjects.keys())\n",
    "print(subjects.values())\n",
    "print(subjects.items())"
   ]
  },
  {
   "cell_type": "code",
   "execution_count": 38,
   "id": "d75c5255",
   "metadata": {},
   "outputs": [
    {
     "name": "stdout",
     "output_type": "stream",
     "text": [
      "{2: 9, 3: 4, 4: 21, 5: 20}\n"
     ]
    }
   ],
   "source": [
    "x={2:4,3:9,4:16,5:25}\n",
    "for k,v in x.items():\n",
    "    if v%2==0:\n",
    "        x[k]+=5\n",
    "    else:\n",
    "        x[k]-=5\n",
    "print(x)"
   ]
  },
  {
   "cell_type": "code",
   "execution_count": 42,
   "id": "bdb10b9f",
   "metadata": {},
   "outputs": [
    {
     "name": "stdout",
     "output_type": "stream",
     "text": [
      "{2: 2, 3: 4, 4: 6, 5: 9}\n"
     ]
    }
   ],
   "source": [
    "x={2:[1,2,3,4,6],3:[7,8,9,10],4:[1,6,7,4],5:[1,2,3,5]}\n",
    "count=0\n",
    "for k,v in x.items():\n",
    "    for i in v:\n",
    "        if i%2!= 0:\n",
    "            count+=1\n",
    "    x[k]=count\n",
    "print(x)"
   ]
  },
  {
   "cell_type": "code",
   "execution_count": 43,
   "id": "d3e163eb",
   "metadata": {},
   "outputs": [
    {
     "name": "stdout",
     "output_type": "stream",
     "text": [
      "{2: [2, 3, 4, 5, 7], 3: [8, 9, 10, 11], 4: [2, 7, 8, 5], 5: [2, 3, 4, 6]}\n"
     ]
    }
   ],
   "source": [
    "x={2:[1,2,3,4,6],3:[7,8,9,10],4:[1,6,7,4],5:[1,2,3,5]}\n",
    "for k,v in x.items():\n",
    "    x[k]=[i+1 for i in v]\n",
    "print(x)"
   ]
  },
  {
   "cell_type": "code",
   "execution_count": null,
   "id": "9d8b7406",
   "metadata": {},
   "outputs": [
    {
     "name": "stdout",
     "output_type": "stream",
     "text": [
      "{'c': 3, 'd': 4}\n"
     ]
    }
   ],
   "source": [
    "#creating a new dictionary with only pairs wher the value i\n",
    "d={'a':1,'b':2,'c':3,'d':4}\n",
    "new_dict={k:v for k,v in d.items() if v>2}\n",
    "print(new_dict)"
   ]
  },
  {
   "cell_type": "code",
   "execution_count": 45,
   "id": "8da435a4",
   "metadata": {},
   "outputs": [
    {
     "name": "stdout",
     "output_type": "stream",
     "text": [
      "{'cc': 6, 'dc': 8, 'ec': 10}\n"
     ]
    }
   ],
   "source": [
    "#we can also perform operation on the key value pairs\n",
    "d=d={'a':1,'b':2,'c':3,'d':4,'e':5}\n",
    "new_dict={k+\"c\":v*2 for k,v in d.items() if v>2}\n",
    "print(new_dict)"
   ]
  }
 ],
 "metadata": {
  "kernelspec": {
   "display_name": "Python 3",
   "language": "python",
   "name": "python3"
  },
  "language_info": {
   "codemirror_mode": {
    "name": "ipython",
    "version": 3
   },
   "file_extension": ".py",
   "mimetype": "text/x-python",
   "name": "python",
   "nbconvert_exporter": "python",
   "pygments_lexer": "ipython3",
   "version": "3.12.6"
  }
 },
 "nbformat": 4,
 "nbformat_minor": 5
}
